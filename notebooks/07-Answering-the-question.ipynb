{
 "cells": [
  {
   "cell_type": "markdown",
   "id": "2fcaffdc-97d8-4ac5-bc9b-1ae0799aed30",
   "metadata": {},
   "source": [
    "# Is your house worth it's weight in gold?\n",
    "\n",
    "Now we've calculated how much a given house rose in value over time - the question is, would you have been better off buying gold?\n",
    "\n",
    "In the `data` folder, we have the daily price of one ounce of gold in USD, called `XAUUSD` in trading terms (e`X`change rate of `AU` aka Gold to `USD`)\n",
    "\n",
    "We want to find out what would have happened if instead of buying a house, we would have bought an equivalent sum of gold. Finally we want to compare what the average profit would be if everyone had invested in gold instead of buying a house.\n",
    "\n",
    "For simplicity, use the daily Closing price.\n",
    "\n",
    "```{note}\n",
    "Since gold is priced in USD, and our houseprices are in GBP, there is also a USD/GBP daily prices in the `data/fx` folder to convert between currencies.\n",
    "```\n",
    "\n",
    "Breaking it down:\n",
    "\n",
    "1. Load daily gold prices into Iceberg - for bonus points, apply a yearly partitioning scheme\n",
    "2. Load exchange rates into Iceberg - for bonus points, apply a yearly partitioning scheme\n",
    "3. Convert daily gold prices from USD to GBP\n",
    "4. For each row in our `profits` table, calculate the equivalent amount of gold they would have been able to purchase on that date\n",
    "5. Calculate the total value of that amount of gold on the sell date\n",
    "6. Calculate the profit of our gold trade\n",
    "7. Compare to Gold profit with Housing profit"
   ]
  },
  {
   "cell_type": "code",
   "execution_count": 1,
   "id": "975d72e1-ffec-4413-9c3f-706ad5039b82",
   "metadata": {},
   "outputs": [
    {
     "data": {
      "text/plain": [
       "polars.config.Config"
      ]
     },
     "execution_count": 1,
     "metadata": {},
     "output_type": "execute_result"
    }
   ],
   "source": [
    "import polars as pl\n",
    "from utils import catalog, engine\n",
    "from pyiceberg.schema import Schema, NestedField\n",
    "from pyiceberg.types import DecimalType, DateType, StringType\n",
    "from pyiceberg.partitioning import PartitionSpec, YearTransform, PartitionField\n",
    "from IPython.display import display\n",
    "pl.Config.set_thousands_separator(\",\")"
   ]
  },
  {
   "cell_type": "markdown",
   "id": "aa4248b3-920d-4d37-b430-9c002a95df54",
   "metadata": {},
   "source": [
    "## 1. Load daily gold prices into Iceberg\n",
    "Start by creating the table in Iceberg. To organize things a bit better, I'm creating a new namespace `commodities` - we could imagine putting a table for oil prices or silver in here"
   ]
  },
  {
   "cell_type": "code",
   "execution_count": 2,
   "id": "3c5f2e30-c1b4-4b3e-8b8c-6566c380bb89",
   "metadata": {},
   "outputs": [],
   "source": [
    "catalog.create_namespace_if_not_exists(\"commodities\")\n",
    "\n",
    "gold_schema = Schema(\n",
    "    NestedField(1, \"date\", DateType(), required=True, doc=\"Day of recorded price\"),\n",
    "    NestedField(\n",
    "        2,\n",
    "        \"price\",\n",
    "        DecimalType(precision=38, scale=2),\n",
    "        required=True,\n",
    "        doc=\"Price in USD of one ounce of gold\",\n",
    "    ),\n",
    "    identifier_field_ids=[1],\n",
    ")"
   ]
  },
  {
   "cell_type": "code",
   "execution_count": 3,
   "id": "500b5ae3-fa08-46d5-aca2-e408801fcdfc",
   "metadata": {},
   "outputs": [],
   "source": [
    "gold_prices_t = catalog.create_table_if_not_exists(\n",
    "    \"commodities.gold\",\n",
    "    schema=gold_schema,\n",
    "    partition_spec=PartitionSpec(\n",
    "        PartitionField(\n",
    "            source_id=1, field_id=1, transform=YearTransform(), name=\"date_year\"\n",
    "        )\n",
    "    ),\n",
    ")"
   ]
  },
  {
   "cell_type": "markdown",
   "id": "4096bcaf-81cb-4a70-8181-2eef647522f0",
   "metadata": {},
   "source": [
    "Next, read in the CSV, picking out the two columns we care about, remembering to convert to the correct schema, "
   ]
  },
  {
   "cell_type": "code",
   "execution_count": 4,
   "id": "57297f6b-8c1e-43d9-89bc-da0a7a20022c",
   "metadata": {},
   "outputs": [
    {
     "data": {
      "text/html": [
       "<div><style>\n",
       ".dataframe > thead > tr,\n",
       ".dataframe > tbody > tr {\n",
       "  text-align: right;\n",
       "  white-space: pre-wrap;\n",
       "}\n",
       "</style>\n",
       "<small>shape: (5_295, 2)</small><table border=\"1\" class=\"dataframe\"><thead><tr><th>date</th><th>price</th></tr><tr><td>datetime[μs]</td><td>f64</td></tr></thead><tbody><tr><td>2004-06-11 00:00:00</td><td>384.1</td></tr><tr><td>2004-06-14 00:00:00</td><td>382.8</td></tr><tr><td>2004-06-15 00:00:00</td><td>388.6</td></tr><tr><td>2004-06-16 00:00:00</td><td>383.8</td></tr><tr><td>2004-06-17 00:00:00</td><td>387.6</td></tr><tr><td>&hellip;</td><td>&hellip;</td></tr><tr><td>2025-01-28 00:00:00</td><td>2,763.17</td></tr><tr><td>2025-01-29 00:00:00</td><td>2,759.68</td></tr><tr><td>2025-01-30 00:00:00</td><td>2,794.06</td></tr><tr><td>2025-01-31 00:00:00</td><td>2,799.23</td></tr><tr><td>2025-02-03 00:00:00</td><td>2,794.41</td></tr></tbody></table></div>"
      ],
      "text/plain": [
       "shape: (5_295, 2)\n",
       "┌─────────────────────┬──────────┐\n",
       "│ date                ┆ price    │\n",
       "│ ---                 ┆ ---      │\n",
       "│ datetime[μs]        ┆ f64      │\n",
       "╞═════════════════════╪══════════╡\n",
       "│ 2004-06-11 00:00:00 ┆ 384.1    │\n",
       "│ 2004-06-14 00:00:00 ┆ 382.8    │\n",
       "│ 2004-06-15 00:00:00 ┆ 388.6    │\n",
       "│ 2004-06-16 00:00:00 ┆ 383.8    │\n",
       "│ 2004-06-17 00:00:00 ┆ 387.6    │\n",
       "│ …                   ┆ …        │\n",
       "│ 2025-01-28 00:00:00 ┆ 2,763.17 │\n",
       "│ 2025-01-29 00:00:00 ┆ 2,759.68 │\n",
       "│ 2025-01-30 00:00:00 ┆ 2,794.06 │\n",
       "│ 2025-01-31 00:00:00 ┆ 2,799.23 │\n",
       "│ 2025-02-03 00:00:00 ┆ 2,794.41 │\n",
       "└─────────────────────┴──────────┘"
      ]
     },
     "execution_count": 4,
     "metadata": {},
     "output_type": "execute_result"
    }
   ],
   "source": [
    "gold_prices = (\n",
    "    pl.scan_csv(\"data/gold/daily_gold_prices.csv\", separator=\";\", try_parse_dates=True)\n",
    "    .select(pl.col(\"Date\").alias(\"date\"), pl.col(\"Close\").alias(\"price\"))\n",
    "    .collect()\n",
    ")\n",
    "gold_prices"
   ]
  },
  {
   "cell_type": "code",
   "execution_count": 5,
   "id": "12bcce48-92d6-42d2-a837-8b78da4d8437",
   "metadata": {},
   "outputs": [],
   "source": [
    "gold_prices_t.append(gold_prices.to_arrow().cast(gold_schema.as_arrow()))"
   ]
  },
  {
   "cell_type": "markdown",
   "id": "38819543-4c4c-4716-baf5-d652a06e026c",
   "metadata": {},
   "source": [
    "# 2. Load daily exchange rates into Iceberg\n",
    "\n",
    "Similar process - create a new namespace and load the fx rates. Since this is technically a table of currency pairs, we can make the schema a bit more future-proof"
   ]
  },
  {
   "cell_type": "code",
   "execution_count": 6,
   "id": "722910bc-b691-4c9e-9644-1f0b4b0d3362",
   "metadata": {},
   "outputs": [],
   "source": [
    "catalog.create_namespace_if_not_exists(\"fx\")\n",
    "\n",
    "fx_schema = Schema(\n",
    "    NestedField(1, \"date\", DateType(), required=True, doc=\"Day of recorded price\"),\n",
    "    NestedField(\n",
    "        2,\n",
    "        \"from\",\n",
    "        StringType(),\n",
    "        required=True,\n",
    "        doc=\"From currency code of the currency pair\",\n",
    "    ),\n",
    "    NestedField(\n",
    "        3,\n",
    "        \"to\",\n",
    "        StringType(),\n",
    "        required=True,\n",
    "        doc=\"To currency code of the currency pair\",\n",
    "    ),\n",
    "    NestedField(\n",
    "        4,\n",
    "        \"exchange_rate\",\n",
    "        DecimalType(precision=38, scale=4),\n",
    "        required=True,\n",
    "        doc=\"Exchange rate of the currency pair\",\n",
    "    ),\n",
    "    identifier_field_ids=[1, 2, 3],\n",
    ")"
   ]
  },
  {
   "cell_type": "markdown",
   "id": "16c2a0c5-6023-4c84-933d-7aef488b3c84",
   "metadata": {},
   "source": [
    "Next, reading in the CSV file and transforming slightly to conform to our schema"
   ]
  },
  {
   "cell_type": "code",
   "execution_count": 7,
   "id": "8ef2afff-e077-460f-a34e-6f64196abf51",
   "metadata": {},
   "outputs": [],
   "source": [
    "fx_table = catalog.create_table_if_not_exists(\"fx.rates\", schema=fx_schema)"
   ]
  },
  {
   "cell_type": "code",
   "execution_count": 8,
   "id": "027e46a2-ea61-47f1-8fc5-47c6bd0bc16c",
   "metadata": {},
   "outputs": [
    {
     "data": {
      "text/html": [
       "<div><style>\n",
       ".dataframe > thead > tr,\n",
       ".dataframe > tbody > tr {\n",
       "  text-align: right;\n",
       "  white-space: pre-wrap;\n",
       "}\n",
       "</style>\n",
       "<small>shape: (5_013, 4)</small><table border=\"1\" class=\"dataframe\"><thead><tr><th>date</th><th>from</th><th>to</th><th>exchange_rate</th></tr><tr><td>date</td><td>str</td><td>str</td><td>decimal[38,4]</td></tr></thead><tbody><tr><td>2025-05-16</td><td>&quot;USD&quot;</td><td>&quot;GBP&quot;</td><td>0.7529</td></tr><tr><td>2025-05-15</td><td>&quot;USD&quot;</td><td>&quot;GBP&quot;</td><td>0.7516</td></tr><tr><td>2025-05-14</td><td>&quot;USD&quot;</td><td>&quot;GBP&quot;</td><td>0.7540</td></tr><tr><td>2025-05-13</td><td>&quot;USD&quot;</td><td>&quot;GBP&quot;</td><td>0.7516</td></tr><tr><td>2025-05-12</td><td>&quot;USD&quot;</td><td>&quot;GBP&quot;</td><td>0.7590</td></tr><tr><td>&hellip;</td><td>&hellip;</td><td>&hellip;</td><td>&hellip;</td></tr><tr><td>2006-03-07</td><td>&quot;USD&quot;</td><td>&quot;GBP&quot;</td><td>0.5760</td></tr><tr><td>2006-03-06</td><td>&quot;USD&quot;</td><td>&quot;GBP&quot;</td><td>0.5713</td></tr><tr><td>2006-03-03</td><td>&quot;USD&quot;</td><td>&quot;GBP&quot;</td><td>0.5696</td></tr><tr><td>2006-03-02</td><td>&quot;USD&quot;</td><td>&quot;GBP&quot;</td><td>0.5703</td></tr><tr><td>2006-03-01</td><td>&quot;USD&quot;</td><td>&quot;GBP&quot;</td><td>0.5714</td></tr></tbody></table></div>"
      ],
      "text/plain": [
       "shape: (5_013, 4)\n",
       "┌────────────┬──────┬─────┬───────────────┐\n",
       "│ date       ┆ from ┆ to  ┆ exchange_rate │\n",
       "│ ---        ┆ ---  ┆ --- ┆ ---           │\n",
       "│ date       ┆ str  ┆ str ┆ decimal[38,4] │\n",
       "╞════════════╪══════╪═════╪═══════════════╡\n",
       "│ 2025-05-16 ┆ USD  ┆ GBP ┆ 0.7529        │\n",
       "│ 2025-05-15 ┆ USD  ┆ GBP ┆ 0.7516        │\n",
       "│ 2025-05-14 ┆ USD  ┆ GBP ┆ 0.7540        │\n",
       "│ 2025-05-13 ┆ USD  ┆ GBP ┆ 0.7516        │\n",
       "│ 2025-05-12 ┆ USD  ┆ GBP ┆ 0.7590        │\n",
       "│ …          ┆ …    ┆ …   ┆ …             │\n",
       "│ 2006-03-07 ┆ USD  ┆ GBP ┆ 0.5760        │\n",
       "│ 2006-03-06 ┆ USD  ┆ GBP ┆ 0.5713        │\n",
       "│ 2006-03-03 ┆ USD  ┆ GBP ┆ 0.5696        │\n",
       "│ 2006-03-02 ┆ USD  ┆ GBP ┆ 0.5703        │\n",
       "│ 2006-03-01 ┆ USD  ┆ GBP ┆ 0.5714        │\n",
       "└────────────┴──────┴─────┴───────────────┘"
      ]
     },
     "execution_count": 8,
     "metadata": {},
     "output_type": "execute_result"
    }
   ],
   "source": [
    "fx_rates = (\n",
    "    pl.scan_csv(\"data/fx/USD_GBP.csv\", try_parse_dates=True)\n",
    "    .with_columns(pl.lit(\"USD\").alias(\"from\"), pl.lit(\"GBP\").alias(\"to\"))\n",
    "    .select(\n",
    "        pl.col(\"date\"),\n",
    "        pl.col(\"from\"),\n",
    "        pl.col(\"to\"),\n",
    "        pl.col(\"close\").cast(pl.Decimal(38, 4)).alias(\"exchange_rate\"),\n",
    "    )\n",
    "    .collect()\n",
    ")\n",
    "fx_rates"
   ]
  },
  {
   "cell_type": "code",
   "execution_count": 9,
   "id": "08792eaf-4277-4fe3-9f99-6c255dc5263b",
   "metadata": {},
   "outputs": [],
   "source": [
    "fx_table.append(fx_rates.to_arrow().cast(fx_schema.as_arrow()))"
   ]
  },
  {
   "cell_type": "markdown",
   "id": "98d98e64-df99-4703-b2e2-c6c1fcc532dc",
   "metadata": {},
   "source": [
    "## Business Logic\n",
    "Next comes the business logic - the actual work of figuring out how much gold we could have bought and how much that would have sold for"
   ]
  },
  {
   "cell_type": "code",
   "execution_count": 10,
   "id": "40b258b9-8af8-47f5-a4a2-5ca5de7f0c67",
   "metadata": {},
   "outputs": [],
   "source": [
    "sql = \"\"\"\n",
    "-- Convert USD gold prices into GBP denominated prices\n",
    "with gold_prices as (\n",
    "    select commodities.gold.date as gold_date, commodities.gold.price * fx.rates.exchange_rate as gold_price\n",
    "    from commodities.gold\n",
    "    join fx.rates on fx.rates.date = commodities.gold.date\n",
    "), gold_purchase as (\n",
    "-- Calculate how much gold (in ounces) the house owner could have bought at the time of purchase\n",
    "    select address_id, \n",
    "    first_price / gold_price as purchased_gold\n",
    "    from housing.profits\n",
    "    join gold_prices on gold_date = housing.profits.first_day\n",
    "), gold_sell as (\n",
    "-- Calculate how much that amount of gold is worth at the time of sale, as well as the profit\n",
    "    select housing.profits.address_id,\n",
    "    cast((purchased_gold * gold_price) - first_price as DECIMAL(38, 2)) as gold_profit,\n",
    "    cast(profit as DECIMAL(38, 2)) as house_profit\n",
    "    from housing.profits\n",
    "    join gold_purchase on gold_purchase.address_id = housing.profits.address_id\n",
    "    join gold_prices on gold_prices.gold_date = last_day\n",
    ")\n",
    "select * from gold_sell\n",
    "\"\"\""
   ]
  },
  {
   "cell_type": "code",
   "execution_count": 11,
   "id": "b26767aa-ac11-4192-bce1-b61a4a602073",
   "metadata": {},
   "outputs": [
    {
     "data": {
      "text/html": [
       "<div><style>\n",
       ".dataframe > thead > tr,\n",
       ".dataframe > tbody > tr {\n",
       "  text-align: right;\n",
       "  white-space: pre-wrap;\n",
       "}\n",
       "</style>\n",
       "<small>shape: (1_162_593, 3)</small><table border=\"1\" class=\"dataframe\"><thead><tr><th>address_id</th><th>gold_profit</th><th>house_profit</th></tr><tr><td>str</td><td>decimal[38,2]</td><td>decimal[38,2]</td></tr></thead><tbody><tr><td>&quot;C93F0B6F6F82401AFF1C511FF7ACEF…</td><td>15,498.03</td><td>39,500.00</td></tr><tr><td>&quot;E7212FC4DD4DE6EEACEF3A2E069ACC…</td><td>40,230.82</td><td>-22,500.00</td></tr><tr><td>&quot;6083DCC9F2891595BED437CE8F7783…</td><td>13,312.86</td><td>5,000.00</td></tr><tr><td>&quot;996AD2EF5EFB730D42202B131BEB84…</td><td>77,923.33</td><td>200,000.00</td></tr><tr><td>&quot;97F1F1EB870F31583D8E6D74053B4C…</td><td>39,107.51</td><td>100,500.00</td></tr><tr><td>&hellip;</td><td>&hellip;</td><td>&hellip;</td></tr><tr><td>&quot;45B991C326E33134D67EF385A6789C…</td><td>75,611.24</td><td>28,500.00</td></tr><tr><td>&quot;383F1B41BEE83B46A5C8E2EDE3D15F…</td><td>53,149.41</td><td>25,050.00</td></tr><tr><td>&quot;EE32549865C4D4B42BB465C9B09569…</td><td>125,473.63</td><td>93,000.00</td></tr><tr><td>&quot;1F578411139E06388131C38AD563E7…</td><td>88,080.35</td><td>51,005.00</td></tr><tr><td>&quot;0D6B31A7C62915A350F23AC7F3836D…</td><td>134,758.50</td><td>88,000.00</td></tr></tbody></table></div>"
      ],
      "text/plain": [
       "shape: (1_162_593, 3)\n",
       "┌─────────────────────────────────┬───────────────┬───────────────┐\n",
       "│ address_id                      ┆ gold_profit   ┆ house_profit  │\n",
       "│ ---                             ┆ ---           ┆ ---           │\n",
       "│ str                             ┆ decimal[38,2] ┆ decimal[38,2] │\n",
       "╞═════════════════════════════════╪═══════════════╪═══════════════╡\n",
       "│ C93F0B6F6F82401AFF1C511FF7ACEF… ┆ 15,498.03     ┆ 39,500.00     │\n",
       "│ E7212FC4DD4DE6EEACEF3A2E069ACC… ┆ 40,230.82     ┆ -22,500.00    │\n",
       "│ 6083DCC9F2891595BED437CE8F7783… ┆ 13,312.86     ┆ 5,000.00      │\n",
       "│ 996AD2EF5EFB730D42202B131BEB84… ┆ 77,923.33     ┆ 200,000.00    │\n",
       "│ 97F1F1EB870F31583D8E6D74053B4C… ┆ 39,107.51     ┆ 100,500.00    │\n",
       "│ …                               ┆ …             ┆ …             │\n",
       "│ 45B991C326E33134D67EF385A6789C… ┆ 75,611.24     ┆ 28,500.00     │\n",
       "│ 383F1B41BEE83B46A5C8E2EDE3D15F… ┆ 53,149.41     ┆ 25,050.00     │\n",
       "│ EE32549865C4D4B42BB465C9B09569… ┆ 125,473.63    ┆ 93,000.00     │\n",
       "│ 1F578411139E06388131C38AD563E7… ┆ 88,080.35     ┆ 51,005.00     │\n",
       "│ 0D6B31A7C62915A350F23AC7F3836D… ┆ 134,758.50    ┆ 88,000.00     │\n",
       "└─────────────────────────────────┴───────────────┴───────────────┘"
      ]
     },
     "execution_count": 11,
     "metadata": {},
     "output_type": "execute_result"
    }
   ],
   "source": [
    "gold_vs_house_profits = pl.read_database(sql, engine)\n",
    "gold_vs_house_profits"
   ]
  },
  {
   "cell_type": "markdown",
   "id": "254dfe2d-963f-4cd6-b3b7-700828fd00c1",
   "metadata": {},
   "source": [
    "Now we have a per-address calculation, let's summarize the results"
   ]
  },
  {
   "cell_type": "code",
   "execution_count": 12,
   "id": "3c43ccc3-7cff-4e28-885d-0c6fe32020d8",
   "metadata": {},
   "outputs": [
    {
     "data": {
      "text/html": [
       "<div><style>\n",
       ".dataframe > thead > tr,\n",
       ".dataframe > tbody > tr {\n",
       "  text-align: right;\n",
       "  white-space: pre-wrap;\n",
       "}\n",
       "</style>\n",
       "<small>shape: (9, 3)</small><table border=\"1\" class=\"dataframe\"><thead><tr><th>statistic</th><th>gold_profit</th><th>house_profit</th></tr><tr><td>str</td><td>f64</td><td>f64</td></tr></thead><tbody><tr><td>&quot;count&quot;</td><td>1.162593e6</td><td>1.162593e6</td></tr><tr><td>&quot;null_count&quot;</td><td>0.0</td><td>0.0</td></tr><tr><td>&quot;mean&quot;</td><td>132,744.096265</td><td>62,504.278131</td></tr><tr><td>&quot;std&quot;</td><td>177,117.410554</td><td>111,348.20833</td></tr><tr><td>&quot;min&quot;</td><td>-918,104.38</td><td>-1.198e7</td></tr><tr><td>&quot;25%&quot;</td><td>44,297.19</td><td>20,000.0</td></tr><tr><td>&quot;50%&quot;</td><td>90,656.52</td><td>44,900.0</td></tr><tr><td>&quot;75%&quot;</td><td>166,886.05</td><td>80,000.0</td></tr><tr><td>&quot;max&quot;</td><td>21,050,917.48</td><td>2.4992e7</td></tr></tbody></table></div>"
      ],
      "text/plain": [
       "shape: (9, 3)\n",
       "┌────────────┬────────────────┬───────────────┐\n",
       "│ statistic  ┆ gold_profit    ┆ house_profit  │\n",
       "│ ---        ┆ ---            ┆ ---           │\n",
       "│ str        ┆ f64            ┆ f64           │\n",
       "╞════════════╪════════════════╪═══════════════╡\n",
       "│ count      ┆ 1.162593e6     ┆ 1.162593e6    │\n",
       "│ null_count ┆ 0.0            ┆ 0.0           │\n",
       "│ mean       ┆ 132,744.096265 ┆ 62,504.278131 │\n",
       "│ std        ┆ 177,117.410554 ┆ 111,348.20833 │\n",
       "│ min        ┆ -918,104.38    ┆ -1.198e7      │\n",
       "│ 25%        ┆ 44,297.19      ┆ 20,000.0      │\n",
       "│ 50%        ┆ 90,656.52      ┆ 44,900.0      │\n",
       "│ 75%        ┆ 166,886.05     ┆ 80,000.0      │\n",
       "│ max        ┆ 21,050,917.48  ┆ 2.4992e7      │\n",
       "└────────────┴────────────────┴───────────────┘"
      ]
     },
     "execution_count": 12,
     "metadata": {},
     "output_type": "execute_result"
    }
   ],
   "source": [
    "gold_vs_house_profits.select(pl.all().exclude(\"address_id\")).describe()"
   ]
  },
  {
   "cell_type": "markdown",
   "id": "5b82a881-2939-4b3d-b9ac-16ceb180a9ba",
   "metadata": {},
   "source": [
    "How many percent would have done better buying gold than a house?"
   ]
  },
  {
   "cell_type": "code",
   "execution_count": 13,
   "id": "84f3f313-9e09-46cc-a250-522b28f12796",
   "metadata": {},
   "outputs": [
    {
     "data": {
      "text/html": [
       "<div><style>\n",
       ".dataframe > thead > tr,\n",
       ".dataframe > tbody > tr {\n",
       "  text-align: right;\n",
       "  white-space: pre-wrap;\n",
       "}\n",
       "</style>\n",
       "<small>shape: (100, 2)</small><table border=\"1\" class=\"dataframe\"><thead><tr><th>breakpoint</th><th>category</th></tr><tr><td>f64</td><td>cat</td></tr></thead><tbody><tr><td>-188,196.0712</td><td>&quot;Q1&quot;</td></tr><tr><td>-125,502.33</td><td>&quot;Q2&quot;</td></tr><tr><td>-97,413.0512</td><td>&quot;Q3&quot;</td></tr><tr><td>-80,479.7332</td><td>&quot;Q4&quot;</td></tr><tr><td>-68,929.786</td><td>&quot;Q5&quot;</td></tr><tr><td>-60,108.5736</td><td>&quot;Q6&quot;</td></tr><tr><td>-53,141.0788</td><td>&quot;Q7&quot;</td></tr><tr><td>-47,291.098</td><td>&quot;Q8&quot;</td></tr><tr><td>-42,242.2864</td><td>&quot;Q9&quot;</td></tr><tr><td>-37,760.928</td><td>&quot;Q10&quot;</td></tr><tr><td>-33,772.2568</td><td>&quot;Q11&quot;</td></tr><tr><td>-30,089.898</td><td>&quot;Q12&quot;</td></tr><tr><td>-26,799.6544</td><td>&quot;Q13&quot;</td></tr><tr><td>-23,754.8912</td><td>&quot;Q14&quot;</td></tr><tr><td>-20,910.128</td><td>&quot;Q15&quot;</td></tr><tr><td>-18,236.278</td><td>&quot;Q16&quot;</td></tr><tr><td>-15,715.3516</td><td>&quot;Q17&quot;</td></tr><tr><td>-13,328.1044</td><td>&quot;Q18&quot;</td></tr><tr><td>-11,057.4824</td><td>&quot;Q19&quot;</td></tr><tr><td>-8,881.842</td><td>&quot;Q20&quot;</td></tr><tr><td>-6,790.6248</td><td>&quot;Q21&quot;</td></tr><tr><td>-4,759.28</td><td>&quot;Q22&quot;</td></tr><tr><td>-2,816.1952</td><td>&quot;Q23&quot;</td></tr><tr><td>-915.1476</td><td>&quot;Q24&quot;</td></tr><tr><td>932.1</td><td>&quot;Q25&quot;</td></tr><tr><td>2,744.1484</td><td>&quot;Q26&quot;</td></tr><tr><td>4,508.8696</td><td>&quot;Q27&quot;</td></tr><tr><td>6,225.5656</td><td>&quot;Q28&quot;</td></tr><tr><td>7,928.5724</td><td>&quot;Q29&quot;</td></tr><tr><td>9,637.15</td><td>&quot;Q30&quot;</td></tr><tr><td>11,315.9292</td><td>&quot;Q31&quot;</td></tr><tr><td>12,982.832</td><td>&quot;Q32&quot;</td></tr><tr><td>14,616.8924</td><td>&quot;Q33&quot;</td></tr><tr><td>16,244.4056</td><td>&quot;Q34&quot;</td></tr><tr><td>17,845.962</td><td>&quot;Q35&quot;</td></tr><tr><td>19,488.01</td><td>&quot;Q36&quot;</td></tr><tr><td>21,114.7328</td><td>&quot;Q37&quot;</td></tr><tr><td>22,751.9676</td><td>&quot;Q38&quot;</td></tr><tr><td>24,368.6528</td><td>&quot;Q39&quot;</td></tr><tr><td>25,996.788</td><td>&quot;Q40&quot;</td></tr><tr><td>27,640.7688</td><td>&quot;Q41&quot;</td></tr><tr><td>29,276.2928</td><td>&quot;Q42&quot;</td></tr><tr><td>30,927.3016</td><td>&quot;Q43&quot;</td></tr><tr><td>32,586.0044</td><td>&quot;Q44&quot;</td></tr><tr><td>34,279.178</td><td>&quot;Q45&quot;</td></tr><tr><td>35,993.6744</td><td>&quot;Q46&quot;</td></tr><tr><td>37,732.5072</td><td>&quot;Q47&quot;</td></tr><tr><td>39,458.25</td><td>&quot;Q48&quot;</td></tr><tr><td>41,241.8484</td><td>&quot;Q49&quot;</td></tr><tr><td>43,039.21</td><td>&quot;Q50&quot;</td></tr><tr><td>44,883.5696</td><td>&quot;Q51&quot;</td></tr><tr><td>46,753.368</td><td>&quot;Q52&quot;</td></tr><tr><td>48,730.5328</td><td>&quot;Q53&quot;</td></tr><tr><td>50,672.9892</td><td>&quot;Q54&quot;</td></tr><tr><td>52,649.278</td><td>&quot;Q55&quot;</td></tr><tr><td>54,680.22</td><td>&quot;Q56&quot;</td></tr><tr><td>56,763.272</td><td>&quot;Q57&quot;</td></tr><tr><td>58,907.294</td><td>&quot;Q58&quot;</td></tr><tr><td>61,086.3828</td><td>&quot;Q59&quot;</td></tr><tr><td>63,313.526</td><td>&quot;Q60&quot;</td></tr><tr><td>65,596.4124</td><td>&quot;Q61&quot;</td></tr><tr><td>67,961.4556</td><td>&quot;Q62&quot;</td></tr><tr><td>70,372.7528</td><td>&quot;Q63&quot;</td></tr><tr><td>72,820.7024</td><td>&quot;Q64&quot;</td></tr><tr><td>75,359.578</td><td>&quot;Q65&quot;</td></tr><tr><td>77,970.8532</td><td>&quot;Q66&quot;</td></tr><tr><td>80,697.264</td><td>&quot;Q67&quot;</td></tr><tr><td>83,526.8328</td><td>&quot;Q68&quot;</td></tr><tr><td>86,423.1212</td><td>&quot;Q69&quot;</td></tr><tr><td>89,431.694</td><td>&quot;Q70&quot;</td></tr><tr><td>92,560.6028</td><td>&quot;Q71&quot;</td></tr><tr><td>95,800.64</td><td>&quot;Q72&quot;</td></tr><tr><td>99,182.8044</td><td>&quot;Q73&quot;</td></tr><tr><td>102,748.9292</td><td>&quot;Q74&quot;</td></tr><tr><td>106,492.97</td><td>&quot;Q75&quot;</td></tr><tr><td>110,396.0556</td><td>&quot;Q76&quot;</td></tr><tr><td>114,532.6924</td><td>&quot;Q77&quot;</td></tr><tr><td>118,863.1248</td><td>&quot;Q78&quot;</td></tr><tr><td>123,464.2448</td><td>&quot;Q79&quot;</td></tr><tr><td>128,391.604</td><td>&quot;Q80&quot;</td></tr><tr><td>133,547.9336</td><td>&quot;Q81&quot;</td></tr><tr><td>139,084.4952</td><td>&quot;Q82&quot;</td></tr><tr><td>144,980.2548</td><td>&quot;Q83&quot;</td></tr><tr><td>151,322.9668</td><td>&quot;Q84&quot;</td></tr><tr><td>158,184.55</td><td>&quot;Q85&quot;</td></tr><tr><td>165,688.6372</td><td>&quot;Q86&quot;</td></tr><tr><td>173,943.1632</td><td>&quot;Q87&quot;</td></tr><tr><td>182,943.45</td><td>&quot;Q88&quot;</td></tr><tr><td>193,052.6464</td><td>&quot;Q89&quot;</td></tr><tr><td>204,290.914</td><td>&quot;Q90&quot;</td></tr><tr><td>217,191.9144</td><td>&quot;Q91&quot;</td></tr><tr><td>231,962.738</td><td>&quot;Q92&quot;</td></tr><tr><td>249,460.4464</td><td>&quot;Q93&quot;</td></tr><tr><td>270,358.6468</td><td>&quot;Q94&quot;</td></tr><tr><td>296,346.976</td><td>&quot;Q95&quot;</td></tr><tr><td>330,284.7012</td><td>&quot;Q96&quot;</td></tr><tr><td>377,108.8908</td><td>&quot;Q97&quot;</td></tr><tr><td>449,725.9936</td><td>&quot;Q98&quot;</td></tr><tr><td>597,037.1972</td><td>&quot;Q99&quot;</td></tr><tr><td>inf</td><td>&quot;Q100&quot;</td></tr></tbody></table></div>"
      ],
      "text/plain": [
       "shape: (100, 2)\n",
       "┌───────────────┬──────────┐\n",
       "│ breakpoint    ┆ category │\n",
       "│ ---           ┆ ---      │\n",
       "│ f64           ┆ cat      │\n",
       "╞═══════════════╪══════════╡\n",
       "│ -188,196.0712 ┆ Q1       │\n",
       "│ -125,502.33   ┆ Q2       │\n",
       "│ -97,413.0512  ┆ Q3       │\n",
       "│ -80,479.7332  ┆ Q4       │\n",
       "│ -68,929.786   ┆ Q5       │\n",
       "│ -60,108.5736  ┆ Q6       │\n",
       "│ -53,141.0788  ┆ Q7       │\n",
       "│ -47,291.098   ┆ Q8       │\n",
       "│ -42,242.2864  ┆ Q9       │\n",
       "│ -37,760.928   ┆ Q10      │\n",
       "│ -33,772.2568  ┆ Q11      │\n",
       "│ -30,089.898   ┆ Q12      │\n",
       "│ -26,799.6544  ┆ Q13      │\n",
       "│ -23,754.8912  ┆ Q14      │\n",
       "│ -20,910.128   ┆ Q15      │\n",
       "│ -18,236.278   ┆ Q16      │\n",
       "│ -15,715.3516  ┆ Q17      │\n",
       "│ -13,328.1044  ┆ Q18      │\n",
       "│ -11,057.4824  ┆ Q19      │\n",
       "│ -8,881.842    ┆ Q20      │\n",
       "│ -6,790.6248   ┆ Q21      │\n",
       "│ -4,759.28     ┆ Q22      │\n",
       "│ -2,816.1952   ┆ Q23      │\n",
       "│ -915.1476     ┆ Q24      │\n",
       "│ 932.1         ┆ Q25      │\n",
       "│ 2,744.1484    ┆ Q26      │\n",
       "│ 4,508.8696    ┆ Q27      │\n",
       "│ 6,225.5656    ┆ Q28      │\n",
       "│ 7,928.5724    ┆ Q29      │\n",
       "│ 9,637.15      ┆ Q30      │\n",
       "│ 11,315.9292   ┆ Q31      │\n",
       "│ 12,982.832    ┆ Q32      │\n",
       "│ 14,616.8924   ┆ Q33      │\n",
       "│ 16,244.4056   ┆ Q34      │\n",
       "│ 17,845.962    ┆ Q35      │\n",
       "│ 19,488.01     ┆ Q36      │\n",
       "│ 21,114.7328   ┆ Q37      │\n",
       "│ 22,751.9676   ┆ Q38      │\n",
       "│ 24,368.6528   ┆ Q39      │\n",
       "│ 25,996.788    ┆ Q40      │\n",
       "│ 27,640.7688   ┆ Q41      │\n",
       "│ 29,276.2928   ┆ Q42      │\n",
       "│ 30,927.3016   ┆ Q43      │\n",
       "│ 32,586.0044   ┆ Q44      │\n",
       "│ 34,279.178    ┆ Q45      │\n",
       "│ 35,993.6744   ┆ Q46      │\n",
       "│ 37,732.5072   ┆ Q47      │\n",
       "│ 39,458.25     ┆ Q48      │\n",
       "│ 41,241.8484   ┆ Q49      │\n",
       "│ 43,039.21     ┆ Q50      │\n",
       "│ 44,883.5696   ┆ Q51      │\n",
       "│ 46,753.368    ┆ Q52      │\n",
       "│ 48,730.5328   ┆ Q53      │\n",
       "│ 50,672.9892   ┆ Q54      │\n",
       "│ 52,649.278    ┆ Q55      │\n",
       "│ 54,680.22     ┆ Q56      │\n",
       "│ 56,763.272    ┆ Q57      │\n",
       "│ 58,907.294    ┆ Q58      │\n",
       "│ 61,086.3828   ┆ Q59      │\n",
       "│ 63,313.526    ┆ Q60      │\n",
       "│ 65,596.4124   ┆ Q61      │\n",
       "│ 67,961.4556   ┆ Q62      │\n",
       "│ 70,372.7528   ┆ Q63      │\n",
       "│ 72,820.7024   ┆ Q64      │\n",
       "│ 75,359.578    ┆ Q65      │\n",
       "│ 77,970.8532   ┆ Q66      │\n",
       "│ 80,697.264    ┆ Q67      │\n",
       "│ 83,526.8328   ┆ Q68      │\n",
       "│ 86,423.1212   ┆ Q69      │\n",
       "│ 89,431.694    ┆ Q70      │\n",
       "│ 92,560.6028   ┆ Q71      │\n",
       "│ 95,800.64     ┆ Q72      │\n",
       "│ 99,182.8044   ┆ Q73      │\n",
       "│ 102,748.9292  ┆ Q74      │\n",
       "│ 106,492.97    ┆ Q75      │\n",
       "│ 110,396.0556  ┆ Q76      │\n",
       "│ 114,532.6924  ┆ Q77      │\n",
       "│ 118,863.1248  ┆ Q78      │\n",
       "│ 123,464.2448  ┆ Q79      │\n",
       "│ 128,391.604   ┆ Q80      │\n",
       "│ 133,547.9336  ┆ Q81      │\n",
       "│ 139,084.4952  ┆ Q82      │\n",
       "│ 144,980.2548  ┆ Q83      │\n",
       "│ 151,322.9668  ┆ Q84      │\n",
       "│ 158,184.55    ┆ Q85      │\n",
       "│ 165,688.6372  ┆ Q86      │\n",
       "│ 173,943.1632  ┆ Q87      │\n",
       "│ 182,943.45    ┆ Q88      │\n",
       "│ 193,052.6464  ┆ Q89      │\n",
       "│ 204,290.914   ┆ Q90      │\n",
       "│ 217,191.9144  ┆ Q91      │\n",
       "│ 231,962.738   ┆ Q92      │\n",
       "│ 249,460.4464  ┆ Q93      │\n",
       "│ 270,358.6468  ┆ Q94      │\n",
       "│ 296,346.976   ┆ Q95      │\n",
       "│ 330,284.7012  ┆ Q96      │\n",
       "│ 377,108.8908  ┆ Q97      │\n",
       "│ 449,725.9936  ┆ Q98      │\n",
       "│ 597,037.1972  ┆ Q99      │\n",
       "│ inf           ┆ Q100     │\n",
       "└───────────────┴──────────┘"
      ]
     },
     "metadata": {},
     "output_type": "display_data"
    }
   ],
   "source": [
    "with pl.Config(set_tbl_rows=100):\n",
    "    summary_df = (\n",
    "        gold_vs_house_profits.select(\n",
    "            pl.col(\"gold_profit\")\n",
    "            .sub(pl.col(\"house_profit\"))\n",
    "            .qcut(100, labels=[f\"Q{i + 1}\" for i in range(100)], include_breaks=True)\n",
    "        )\n",
    "        .unnest(\"gold_profit\")\n",
    "        .unique()\n",
    "        .sort(\"breakpoint\")\n",
    "    )\n",
    "    display(summary_df)"
   ]
  },
  {
   "cell_type": "markdown",
   "id": "49692599-1622-4487-a83b-d73b75cd9a30",
   "metadata": {},
   "source": [
    "# Exercise: What does it look like in your region?\n",
    "\n",
    "This is the picture for all of the UK - what does it look like for your region?"
   ]
  },
  {
   "cell_type": "code",
   "execution_count": null,
   "id": "10aeed2c-7be9-4c79-be71-bbeb8719a4f4",
   "metadata": {},
   "outputs": [],
   "source": [
    "\n",
    "# try Polars\n",
    "\"\"\"\n",
    "gold_prices = (\n",
    "    pl.scan_iceberg(fx_table)\n",
    "    .join(\n",
    "        pl.scan_iceberg(gold_prices_t),\n",
    "        on=\"date\",\n",
    "    )\n",
    "    .select(\n",
    "        gold_date=\"date\",\n",
    "        gold_price=pl.col(\"price\") * pl.col(\"exchange_rate\")\n",
    "    )\n",
    "    .collect()\n",
    ")\n",
    "\"\"\""
   ]
  }
 ],
 "metadata": {
  "kernelspec": {
   "display_name": "Python 3 (ipykernel)",
   "language": "python",
   "name": "python3"
  },
  "language_info": {
   "codemirror_mode": {
    "name": "ipython",
    "version": 3
   },
   "file_extension": ".py",
   "mimetype": "text/x-python",
   "name": "python",
   "nbconvert_exporter": "python",
   "pygments_lexer": "ipython3",
   "version": "3.12.11"
  }
 },
 "nbformat": 4,
 "nbformat_minor": 5
}
