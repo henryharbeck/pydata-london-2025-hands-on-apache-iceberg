{
 "cells": [
  {
   "cell_type": "markdown",
   "id": "994d5d21-44ce-44b1-8aa4-234093732d74",
   "metadata": {},
   "source": [
    "# Data Engineering\n",
    "\n",
    "Now that we've loaded our data, it's time to do some real data engineering to answer our original question.\n",
    "\n",
    "At this stage, Iceberg fades into the background, but we're able to pick and choose query engines to perform the various steps - this is the true power of Iceberg"
   ]
  },
  {
   "cell_type": "code",
   "execution_count": 1,
   "id": "d010f305-d0e6-44e6-a95f-1f4ba977bd67",
   "metadata": {},
   "outputs": [
    {
     "data": {
      "text/plain": [
       "polars.config.Config"
      ]
     },
     "execution_count": 1,
     "metadata": {},
     "output_type": "execute_result"
    }
   ],
   "source": [
    "import sqlalchemy as sa\n",
    "from utils import engine, catalog\n",
    "import polars as pl\n",
    "pl.Config.set_fmt_str_lengths(50)\n",
    "pl.Config.set_thousands_separator(True)"
   ]
  },
  {
   "cell_type": "markdown",
   "id": "9f6a9826-c42c-4f6e-919f-a126dc561f6a",
   "metadata": {},
   "source": [
    "We want a way of identifying a given property, so hashing the address related fields seems the easiest. We'll create a dimension table for those addresses, so we can move those rows out of our final data, without losing the ability to filter later. \n",
    "```{note} SQL Partitioning\n",
    "Note that we're adding partitioning to our tables directly through SQL here using a WITH statement on the CREATE TABLE\n",
    "```"
   ]
  },
  {
   "cell_type": "code",
   "execution_count": 2,
   "id": "2f8a17a9-fa8a-4684-b890-e8975c2cc840",
   "metadata": {},
   "outputs": [],
   "source": [
    "dim_address_sql = \"\"\"\n",
    "CREATE OR REPLACE TABLE housing.dim_address \n",
    "    WITH ( partitioning = ARRAY['bucket(address_id, 10)'] )\n",
    "    AS (\n",
    "    SELECT DISTINCT to_hex(md5(cast(\n",
    "        coalesce(paon, '') ||\n",
    "        coalesce(saon, '') ||\n",
    "        coalesce(street, '') ||\n",
    "        coalesce(locality, '') ||\n",
    "        coalesce(town, '') ||\n",
    "        coalesce(district, '') ||\n",
    "        coalesce(county, '') ||\n",
    "        coalesce(postcode, '')\n",
    "    as varbinary))) AS address_id,\n",
    "      paon,\n",
    "      saon,\n",
    "      street,\n",
    "      locality,\n",
    "      town,\n",
    "      district,\n",
    "      county,\n",
    "      postcode\n",
    "FROM housing.staging_prices)\n",
    "\"\"\""
   ]
  },
  {
   "cell_type": "markdown",
   "id": "2e11c39c-7488-4d7f-a5f9-ca5ab99dbffc",
   "metadata": {},
   "source": [
    "As described in the data dictionary, the monthly files incluce a `record_status` column which indicates whether a given record is a new record or if it is deleting or updating an existing record. In moving from our staging table to our fact table, we clean our data to ensure we respect the record_status"
   ]
  },
  {
   "cell_type": "code",
   "execution_count": 3,
   "id": "84dbc586-4c04-4fd6-b45d-33b2e247dc9b",
   "metadata": {},
   "outputs": [],
   "source": [
    "fct_prices_sql = \"\"\"\n",
    "CREATE OR REPLACE TABLE housing.fct_house_prices\n",
    "    WITH ( partitioning = ARRAY['year(date_of_transfer)'] ) AS (\n",
    "        WITH ranked_records AS (\n",
    "            SELECT *,\n",
    "            ROW_NUMBER () OVER (PARTITION BY transaction_id ORDER BY month(date_of_transfer) DESC) AS rn\n",
    "            FROM housing.staging_prices\n",
    "    ),\n",
    "    latest_records AS (\n",
    "        SELECT *\n",
    "        FROM ranked_records\n",
    "        WHERE rn = 1\n",
    "    ),\n",
    "    with_address_id AS (\n",
    "        SELECT to_hex(md5(cast (\n",
    "                coalesce(paon, '') ||\n",
    "                coalesce(saon, '') ||\n",
    "                coalesce(street, '') ||\n",
    "                coalesce(locality, '') ||\n",
    "                coalesce(town, '') ||\n",
    "                coalesce(district, '') ||\n",
    "                coalesce(county, '') ||\n",
    "                coalesce(postcode, '')\n",
    "            as varbinary))) AS address_id,\n",
    "                transaction_id,\n",
    "                price,\n",
    "                date_of_transfer,\n",
    "                property_type,\n",
    "                new_property,\n",
    "                duration,\n",
    "                ppd_category_type\n",
    "        FROM latest_records\n",
    "        WHERE record_status != 'D' and ppd_category_type = 'A'\n",
    "    )\n",
    "    SELECT *\n",
    "    FROM with_address_id\n",
    "    )\n",
    "\"\"\""
   ]
  },
  {
   "cell_type": "code",
   "execution_count": 4,
   "id": "11db1fab-df41-4e89-9686-5c83b2051d2a",
   "metadata": {},
   "outputs": [
    {
     "name": "stdout",
     "output_type": "stream",
     "text": [
      "Created dim_address with 8,309,212 rows\n",
      "Created fct_prices with 8,552,420 rows\n"
     ]
    }
   ],
   "source": [
    "with engine.begin() as conn:\n",
    "    num_rows_dim_address = conn.execute(sa.text(dim_address_sql)).fetchone()[0]\n",
    "    num_rows_fct_prices = conn.execute(sa.text(fct_prices_sql)).fetchone()[0]\n",
    "\n",
    "print(f\"Created dim_address with {num_rows_dim_address:,} rows\")\n",
    "print(f\"Created fct_prices with {num_rows_fct_prices:,} rows\")"
   ]
  },
  {
   "cell_type": "markdown",
   "id": "6a5d0297-26e1-4cde-bf7f-62b62a45c894",
   "metadata": {},
   "source": [
    "Now that the data is loaded, we can create a Pyiceberg reference to it"
   ]
  },
  {
   "cell_type": "code",
   "execution_count": 5,
   "id": "e9abce40-7f4b-4cf8-a203-250ae8215d0e",
   "metadata": {},
   "outputs": [],
   "source": [
    "fct_house_prices_t = catalog.load_table(\"housing.fct_house_prices\")"
   ]
  },
  {
   "cell_type": "markdown",
   "id": "4ef0d592-354f-437f-b71a-87ef7c9e7a9d",
   "metadata": {},
   "source": [
    "For a change of pace, let's use `polars` to write our profits calculation. Some things are easier to express in SQL and some are nice to be able to do in Polars. The choice is yours!"
   ]
  },
  {
   "cell_type": "code",
   "execution_count": 6,
   "id": "bf0c144e-0358-4ed6-8f9f-589868b6e9f2",
   "metadata": {},
   "outputs": [
    {
     "data": {
      "text/html": [
       "<div><style>\n",
       ".dataframe > thead > tr,\n",
       ".dataframe > tbody > tr {\n",
       "  text-align: right;\n",
       "  white-space: pre-wrap;\n",
       "}\n",
       "</style>\n",
       "<small>shape: (1_174_856, 7)</small><table border=\"1\" class=\"dataframe\"><thead><tr><th>address_id</th><th>first_day</th><th>last_day</th><th>first_price</th><th>last_price</th><th>days_held</th><th>profit</th></tr><tr><td>str</td><td>date</td><td>date</td><td>i32</td><td>i32</td><td>i64</td><td>i32</td></tr></thead><tbody><tr><td>&quot;8690E862152B6D4CB7FF9F3B03C5E115&quot;</td><td>2022-03-04</td><td>2024-09-27</td><td>45,500</td><td>95,000</td><td>938</td><td>49,500</td></tr><tr><td>&quot;71912386175398BDBB44EEB6E3A5D061&quot;</td><td>2019-01-25</td><td>2024-10-24</td><td>287,000</td><td>450,000</td><td>2,099</td><td>163,000</td></tr><tr><td>&quot;3D3F56D57E4015316242649118A4AD87&quot;</td><td>2015-01-20</td><td>2016-06-09</td><td>195,000</td><td>234,000</td><td>506</td><td>39,000</td></tr><tr><td>&quot;8221CE778B883E899FD98C20FDACCD52&quot;</td><td>2017-03-27</td><td>2023-08-24</td><td>175,000</td><td>262,500</td><td>2,341</td><td>87,500</td></tr><tr><td>&quot;9FD87016486D0205AB4710BDA759A454&quot;</td><td>2017-03-28</td><td>2021-09-24</td><td>290,000</td><td>320,000</td><td>1,641</td><td>30,000</td></tr><tr><td>&hellip;</td><td>&hellip;</td><td>&hellip;</td><td>&hellip;</td><td>&hellip;</td><td>&hellip;</td><td>&hellip;</td></tr><tr><td>&quot;52DCBA83936A56406D789B804B8663DF&quot;</td><td>2017-12-14</td><td>2019-07-19</td><td>345,000</td><td>417,000</td><td>582</td><td>72,000</td></tr><tr><td>&quot;0F800ABA47FAFB8CB87DB7FC8D885C6A&quot;</td><td>2017-11-13</td><td>2020-09-30</td><td>124,995</td><td>145,000</td><td>1,052</td><td>20,005</td></tr><tr><td>&quot;E3A284566D63FA6791C0F5BF35BE2420&quot;</td><td>2018-10-26</td><td>2023-08-18</td><td>227,500</td><td>300,000</td><td>1,757</td><td>72,500</td></tr><tr><td>&quot;B06764BC58CEC365296EA83C3CDAF3ED&quot;</td><td>2019-08-23</td><td>2022-09-07</td><td>181,000</td><td>313,000</td><td>1,111</td><td>132,000</td></tr><tr><td>&quot;8444C060F7ED8245833C5201657103EC&quot;</td><td>2016-12-09</td><td>2022-12-16</td><td>217,000</td><td>360,000</td><td>2,198</td><td>143,000</td></tr></tbody></table></div>"
      ],
      "text/plain": [
       "shape: (1_174_856, 7)\n",
       "┌───────────────────────┬────────────┬────────────┬─────────────┬────────────┬───────────┬─────────┐\n",
       "│ address_id            ┆ first_day  ┆ last_day   ┆ first_price ┆ last_price ┆ days_held ┆ profit  │\n",
       "│ ---                   ┆ ---        ┆ ---        ┆ ---         ┆ ---        ┆ ---       ┆ ---     │\n",
       "│ str                   ┆ date       ┆ date       ┆ i32         ┆ i32        ┆ i64       ┆ i32     │\n",
       "╞═══════════════════════╪════════════╪════════════╪═════════════╪════════════╪═══════════╪═════════╡\n",
       "│ 8690E862152B6D4CB7FF9 ┆ 2022-03-04 ┆ 2024-09-27 ┆ 45,500      ┆ 95,000     ┆ 938       ┆ 49,500  │\n",
       "│ F3B03C5E115           ┆            ┆            ┆             ┆            ┆           ┆         │\n",
       "│ 71912386175398BDBB44E ┆ 2019-01-25 ┆ 2024-10-24 ┆ 287,000     ┆ 450,000    ┆ 2,099     ┆ 163,000 │\n",
       "│ EB6E3A5D061           ┆            ┆            ┆             ┆            ┆           ┆         │\n",
       "│ 3D3F56D57E40153162426 ┆ 2015-01-20 ┆ 2016-06-09 ┆ 195,000     ┆ 234,000    ┆ 506       ┆ 39,000  │\n",
       "│ 49118A4AD87           ┆            ┆            ┆             ┆            ┆           ┆         │\n",
       "│ 8221CE778B883E899FD98 ┆ 2017-03-27 ┆ 2023-08-24 ┆ 175,000     ┆ 262,500    ┆ 2,341     ┆ 87,500  │\n",
       "│ C20FDACCD52           ┆            ┆            ┆             ┆            ┆           ┆         │\n",
       "│ 9FD87016486D0205AB471 ┆ 2017-03-28 ┆ 2021-09-24 ┆ 290,000     ┆ 320,000    ┆ 1,641     ┆ 30,000  │\n",
       "│ 0BDA759A454           ┆            ┆            ┆             ┆            ┆           ┆         │\n",
       "│ …                     ┆ …          ┆ …          ┆ …           ┆ …          ┆ …         ┆ …       │\n",
       "│ 52DCBA83936A56406D789 ┆ 2017-12-14 ┆ 2019-07-19 ┆ 345,000     ┆ 417,000    ┆ 582       ┆ 72,000  │\n",
       "│ B804B8663DF           ┆            ┆            ┆             ┆            ┆           ┆         │\n",
       "│ 0F800ABA47FAFB8CB87DB ┆ 2017-11-13 ┆ 2020-09-30 ┆ 124,995     ┆ 145,000    ┆ 1,052     ┆ 20,005  │\n",
       "│ 7FC8D885C6A           ┆            ┆            ┆             ┆            ┆           ┆         │\n",
       "│ E3A284566D63FA6791C0F ┆ 2018-10-26 ┆ 2023-08-18 ┆ 227,500     ┆ 300,000    ┆ 1,757     ┆ 72,500  │\n",
       "│ 5BF35BE2420           ┆            ┆            ┆             ┆            ┆           ┆         │\n",
       "│ B06764BC58CEC365296EA ┆ 2019-08-23 ┆ 2022-09-07 ┆ 181,000     ┆ 313,000    ┆ 1,111     ┆ 132,000 │\n",
       "│ 83C3CDAF3ED           ┆            ┆            ┆             ┆            ┆           ┆         │\n",
       "│ 8444C060F7ED8245833C5 ┆ 2016-12-09 ┆ 2022-12-16 ┆ 217,000     ┆ 360,000    ┆ 2,198     ┆ 143,000 │\n",
       "│ 201657103EC           ┆            ┆            ┆             ┆            ┆           ┆         │\n",
       "└───────────────────────┴────────────┴────────────┴─────────────┴────────────┴───────────┴─────────┘"
      ]
     },
     "execution_count": 6,
     "metadata": {},
     "output_type": "execute_result"
    }
   ],
   "source": [
    "polars_result = (\n",
    "    pl.scan_iceberg(fct_house_prices_t)\n",
    "    .with_columns(\n",
    "        pl.col(\"date_of_transfer\").min().over(pl.col(\"address_id\")).alias(\"first_day\"),\n",
    "        pl.col(\"date_of_transfer\").max().over(pl.col(\"address_id\")).alias(\"last_day\"),\n",
    "        pl.col(\"price\")\n",
    "        .sort_by(\"date_of_transfer\")\n",
    "        .first()\n",
    "        .over(pl.col(\"address_id\"))\n",
    "        .alias(\"first_price\"),\n",
    "        pl.col(\"price\")\n",
    "        .sort_by(\"date_of_transfer\")\n",
    "        .last()\n",
    "        .over(pl.col(\"address_id\"))\n",
    "        .alias(\"last_price\"),\n",
    "    )\n",
    "    .with_columns(\n",
    "        pl.col(\"last_day\").sub(pl.col(\"first_day\")).dt.total_days().alias(\"days_held\"),\n",
    "        pl.col(\"last_price\").sub(pl.col(\"first_price\")).alias(\"profit\"),\n",
    "    )\n",
    "    .filter(pl.col(\"days_held\") != 0)\n",
    "    .select(\n",
    "        pl.col(\"address_id\"),\n",
    "        pl.col(\"first_day\"),\n",
    "        pl.col(\"last_day\"),\n",
    "        pl.col(\"first_price\"),\n",
    "        pl.col(\"last_price\"),\n",
    "        pl.col(\"days_held\"),\n",
    "        pl.col(\"profit\"),\n",
    "    )\n",
    "    .unique()\n",
    ").collect()\n",
    "\n",
    "polars_result"
   ]
  },
  {
   "cell_type": "markdown",
   "id": "310cf774-77c8-45d1-8186-8a884852fa8d",
   "metadata": {},
   "source": [
    "Let's store the results in a table for future reference - since `polars` is arrow-based, we can use it to define the schema as well if we don't care as much about the details of the resulting schema"
   ]
  },
  {
   "cell_type": "code",
   "execution_count": 7,
   "id": "f37fd6fb-0f6a-47d7-957e-505e84511dda",
   "metadata": {},
   "outputs": [],
   "source": [
    "profits_t = catalog.create_table_if_not_exists(\"housing.profits\", schema=polars_result.to_arrow().schema)"
   ]
  },
  {
   "cell_type": "code",
   "execution_count": 8,
   "id": "15c44fff-ab35-49ca-a13f-d93f0f9ab069",
   "metadata": {},
   "outputs": [
    {
     "name": "stderr",
     "output_type": "stream",
     "text": [
      "/usr/local/lib/python3.12/site-packages/pyiceberg/table/__init__.py:686: UserWarning: Delete operation did not match any records\n",
      "  warnings.warn(\"Delete operation did not match any records\")\n"
     ]
    }
   ],
   "source": [
    "profits_t.overwrite(polars_result.to_arrow())"
   ]
  },
  {
   "cell_type": "markdown",
   "id": "66afb258-8983-4e47-8831-529e9f61179b",
   "metadata": {},
   "source": [
    "To round out the selection of query engines, we can use `daft` to query our newly created table and calculate the mean profits for a given year"
   ]
  },
  {
   "cell_type": "code",
   "execution_count": 9,
   "id": "cb4ee7b2-9465-4765-a8a8-4c0995259434",
   "metadata": {},
   "outputs": [
    {
     "data": {
      "text/html": [
       "<div>\n",
       "<table class=\"dataframe\">\n",
       "<thead><tr><th style=\"text-wrap: nowrap; max-width:192px; overflow:auto; text-align:left\">year<br />Int32</th><th style=\"text-wrap: nowrap; max-width:192px; overflow:auto; text-align:left\">profit<br />Float64</th></tr></thead>\n",
       "<tbody>\n",
       "<tr><td><div style=\"text-align:left; max-width:192px; max-height:64px; overflow:auto\">2015</div></td><td><div style=\"text-align:left; max-width:192px; max-height:64px; overflow:auto\">72301.1885172374</div></td></tr>\n",
       "<tr><td><div style=\"text-align:left; max-width:192px; max-height:64px; overflow:auto\">2016</div></td><td><div style=\"text-align:left; max-width:192px; max-height:64px; overflow:auto\">59703.10476277467</div></td></tr>\n",
       "<tr><td><div style=\"text-align:left; max-width:192px; max-height:64px; overflow:auto\">2017</div></td><td><div style=\"text-align:left; max-width:192px; max-height:64px; overflow:auto\">57739.08672772205</div></td></tr>\n",
       "<tr><td><div style=\"text-align:left; max-width:192px; max-height:64px; overflow:auto\">2018</div></td><td><div style=\"text-align:left; max-width:192px; max-height:64px; overflow:auto\">58670.54759435653</div></td></tr>\n",
       "<tr><td><div style=\"text-align:left; max-width:192px; max-height:64px; overflow:auto\">2019</div></td><td><div style=\"text-align:left; max-width:192px; max-height:64px; overflow:auto\">64499.84229153804</div></td></tr>\n",
       "<tr><td><div style=\"text-align:left; max-width:192px; max-height:64px; overflow:auto\">2020</div></td><td><div style=\"text-align:left; max-width:192px; max-height:64px; overflow:auto\">68087.81635511974</div></td></tr>\n",
       "<tr><td><div style=\"text-align:left; max-width:192px; max-height:64px; overflow:auto\">2021</div></td><td><div style=\"text-align:left; max-width:192px; max-height:64px; overflow:auto\">57104.07844168653</div></td></tr>\n",
       "<tr><td><div style=\"text-align:left; max-width:192px; max-height:64px; overflow:auto\">2022</div></td><td><div style=\"text-align:left; max-width:192px; max-height:64px; overflow:auto\">33779.063714804724</div></td></tr>\n",
       "<tr><td><div style=\"text-align:left; max-width:192px; max-height:64px; overflow:auto\">2023</div></td><td><div style=\"text-align:left; max-width:192px; max-height:64px; overflow:auto\">45438.82723962127</div></td></tr>\n",
       "<tr><td><div style=\"text-align:left; max-width:192px; max-height:64px; overflow:auto\">2024</div></td><td><div style=\"text-align:left; max-width:192px; max-height:64px; overflow:auto\">50560.72284122563</div></td></tr>\n",
       "</tbody>\n",
       "</table>\n",
       "<small>(Showing first 10 of 10 rows)</small>\n",
       "</div>"
      ],
      "text/plain": [
       "╭───────┬────────────────────╮\n",
       "│ year  ┆ profit             │\n",
       "│ ---   ┆ ---                │\n",
       "│ Int32 ┆ Float64            │\n",
       "╞═══════╪════════════════════╡\n",
       "│ 2015  ┆ 72301.1885172374   │\n",
       "├╌╌╌╌╌╌╌┼╌╌╌╌╌╌╌╌╌╌╌╌╌╌╌╌╌╌╌╌┤\n",
       "│ 2016  ┆ 59703.10476277467  │\n",
       "├╌╌╌╌╌╌╌┼╌╌╌╌╌╌╌╌╌╌╌╌╌╌╌╌╌╌╌╌┤\n",
       "│ 2017  ┆ 57739.08672772205  │\n",
       "├╌╌╌╌╌╌╌┼╌╌╌╌╌╌╌╌╌╌╌╌╌╌╌╌╌╌╌╌┤\n",
       "│ 2018  ┆ 58670.54759435653  │\n",
       "├╌╌╌╌╌╌╌┼╌╌╌╌╌╌╌╌╌╌╌╌╌╌╌╌╌╌╌╌┤\n",
       "│ 2019  ┆ 64499.84229153804  │\n",
       "├╌╌╌╌╌╌╌┼╌╌╌╌╌╌╌╌╌╌╌╌╌╌╌╌╌╌╌╌┤\n",
       "│ 2020  ┆ 68087.81635511974  │\n",
       "├╌╌╌╌╌╌╌┼╌╌╌╌╌╌╌╌╌╌╌╌╌╌╌╌╌╌╌╌┤\n",
       "│ 2021  ┆ 57104.07844168653  │\n",
       "├╌╌╌╌╌╌╌┼╌╌╌╌╌╌╌╌╌╌╌╌╌╌╌╌╌╌╌╌┤\n",
       "│ 2022  ┆ 33779.063714804724 │\n",
       "├╌╌╌╌╌╌╌┼╌╌╌╌╌╌╌╌╌╌╌╌╌╌╌╌╌╌╌╌┤\n",
       "│ 2023  ┆ 45438.82723962127  │\n",
       "├╌╌╌╌╌╌╌┼╌╌╌╌╌╌╌╌╌╌╌╌╌╌╌╌╌╌╌╌┤\n",
       "│ 2024  ┆ 50560.72284122563  │\n",
       "╰───────┴────────────────────╯\n",
       "\n",
       "(Showing first 10 of 10 rows)"
      ]
     },
     "execution_count": 9,
     "metadata": {},
     "output_type": "execute_result"
    }
   ],
   "source": [
    "import daft\n",
    "\n",
    "(\n",
    "    daft.read_iceberg(profits_t)\n",
    "    .groupby(daft.col(\"first_day\").dt.year().alias(\"year\"))\n",
    "    .agg(daft.col(\"profit\").mean())\n",
    "    .sort(daft.col(\"year\"))\n",
    "    .collect(10)\n",
    ")"
   ]
  }
 ],
 "metadata": {
  "kernelspec": {
   "display_name": "Python 3 (ipykernel)",
   "language": "python",
   "name": "python3"
  },
  "language_info": {
   "codemirror_mode": {
    "name": "ipython",
    "version": 3
   },
   "file_extension": ".py",
   "mimetype": "text/x-python",
   "name": "python",
   "nbconvert_exporter": "python",
   "pygments_lexer": "ipython3",
   "version": "3.12.11"
  }
 },
 "nbformat": 4,
 "nbformat_minor": 5
}
