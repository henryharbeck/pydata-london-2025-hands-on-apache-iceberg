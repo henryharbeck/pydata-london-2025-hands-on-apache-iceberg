{
 "cells": [
  {
   "cell_type": "code",
   "execution_count": 1,
   "id": "Hbol",
   "metadata": {},
   "outputs": [],
   "source": [
    "from pyiceberg.catalog.rest import RestCatalog\n",
    "import polars as pl\n",
    "import datetime as dt\n",
    "import sqlalchemy as sa\n",
    "\n",
    "# The functions we defined in the previous notebook are defined in utils.py\n",
    "from utils import get_iceberg_metadata, read_house_prices\n",
    "from s3fs import S3FileSystem\n",
    "from IPython.display import JSON"
   ]
  },
  {
   "cell_type": "markdown",
   "id": "MJUe",
   "metadata": {
    "marimo": {
     "config": {
      "hide_code": true
     }
    }
   },
   "source": [
    "# Updating Metadata\n",
    "\n",
    "We've added data to our tables and inspected how Iceberg keeps track of the data in the metadata files\n",
    "\n",
    "Usually when working with data in real life, we make decisions that we regret in six months time. \n",
    "\n",
    "Now that we've added some data, we've found out that we've made a mistake - we should have added a `_loaded_at` column to our data, so that we can differentiate downstream between the source timestamp and our loaded time"
   ]
  },
  {
   "cell_type": "code",
   "execution_count": 2,
   "id": "vblA",
   "metadata": {},
   "outputs": [],
   "source": [
    "# Get a reference to our catalog and table again\n",
    "catalog = RestCatalog(\n",
    "    \"lakekeeper\", uri=\"http://lakekeeper:8181/catalog\", warehouse=\"lakehouse\"\n",
    ")\n",
    "house_prices_t = catalog.load_table(\"housing.staging_prices\")\n",
    "fs = S3FileSystem(endpoint_url=\"http://minio:9000\", key=\"minio\", secret=\"minio1234\")"
   ]
  },
  {
   "cell_type": "code",
   "execution_count": 3,
   "id": "bkHC",
   "metadata": {},
   "outputs": [
    {
     "data": {
      "text/html": [
       "<div><style>\n",
       ".dataframe > thead > tr,\n",
       ".dataframe > tbody > tr {\n",
       "  text-align: right;\n",
       "  white-space: pre-wrap;\n",
       "}\n",
       "</style>\n",
       "<small>shape: (1_069_660, 17)</small><table border=\"1\" class=\"dataframe\"><thead><tr><th>transaction_id</th><th>price</th><th>date_of_transfer</th><th>postcode</th><th>property_type</th><th>new_property</th><th>duration</th><th>paon</th><th>saon</th><th>street</th><th>locality</th><th>town</th><th>district</th><th>county</th><th>ppd_category_type</th><th>record_status</th><th>_loaded_at</th></tr><tr><td>str</td><td>i64</td><td>date</td><td>str</td><td>str</td><td>str</td><td>str</td><td>str</td><td>str</td><td>str</td><td>str</td><td>str</td><td>str</td><td>str</td><td>str</td><td>str</td><td>datetime[μs, UTC]</td></tr></thead><tbody><tr><td>&quot;{DBA933F9-D5BC-669D-E053-6B04A…</td><td>205000</td><td>2022-02-18</td><td>&quot;DL9 4RS&quot;</td><td>&quot;D&quot;</td><td>&quot;N&quot;</td><td>&quot;F&quot;</td><td>&quot;26&quot;</td><td>&quot;&quot;</td><td>&quot;MAPLE AVENUE&quot;</td><td>&quot;COLBURN&quot;</td><td>&quot;CATTERICK GARRISON&quot;</td><td>&quot;RICHMONDSHIRE&quot;</td><td>&quot;NORTH YORKSHIRE&quot;</td><td>&quot;A&quot;</td><td>&quot;A&quot;</td><td>2025-06-06 08:35:08.585203 UTC</td></tr><tr><td>&quot;{DBA933F9-D5BE-669D-E053-6B04A…</td><td>220000</td><td>2022-02-14</td><td>&quot;YO12 7ND&quot;</td><td>&quot;S&quot;</td><td>&quot;N&quot;</td><td>&quot;F&quot;</td><td>&quot;3&quot;</td><td>&quot;&quot;</td><td>&quot;PEASHOLM GARDENS&quot;</td><td>&quot;&quot;</td><td>&quot;SCARBOROUGH&quot;</td><td>&quot;SCARBOROUGH&quot;</td><td>&quot;NORTH YORKSHIRE&quot;</td><td>&quot;A&quot;</td><td>&quot;A&quot;</td><td>2025-06-06 08:35:08.585203 UTC</td></tr><tr><td>&quot;{DBA933F9-D5C0-669D-E053-6B04A…</td><td>775000</td><td>2022-02-22</td><td>&quot;HG5 0TT&quot;</td><td>&quot;D&quot;</td><td>&quot;N&quot;</td><td>&quot;F&quot;</td><td>&quot;WATERS NOOK&quot;</td><td>&quot;&quot;</td><td>&quot;YORK ROAD&quot;</td><td>&quot;&quot;</td><td>&quot;KNARESBOROUGH&quot;</td><td>&quot;HARROGATE&quot;</td><td>&quot;NORTH YORKSHIRE&quot;</td><td>&quot;A&quot;</td><td>&quot;A&quot;</td><td>2025-06-06 08:35:08.585203 UTC</td></tr><tr><td>&quot;{DBA933F9-D5C6-669D-E053-6B04A…</td><td>450000</td><td>2022-03-04</td><td>&quot;YO31 1BU&quot;</td><td>&quot;D&quot;</td><td>&quot;N&quot;</td><td>&quot;F&quot;</td><td>&quot;116&quot;</td><td>&quot;&quot;</td><td>&quot;STOCKTON LANE&quot;</td><td>&quot;&quot;</td><td>&quot;YORK&quot;</td><td>&quot;YORK&quot;</td><td>&quot;YORK&quot;</td><td>&quot;A&quot;</td><td>&quot;A&quot;</td><td>2025-06-06 08:35:08.585203 UTC</td></tr><tr><td>&quot;{DBA933F9-D5CC-669D-E053-6B04A…</td><td>175000</td><td>2022-02-25</td><td>&quot;LA2 7EB&quot;</td><td>&quot;T&quot;</td><td>&quot;N&quot;</td><td>&quot;F&quot;</td><td>&quot;BORRANS COTTAGES&quot;</td><td>&quot;3&quot;</td><td>&quot;BURTON ROAD&quot;</td><td>&quot;LOWER BENTHAM&quot;</td><td>&quot;LANCASTER&quot;</td><td>&quot;CRAVEN&quot;</td><td>&quot;NORTH YORKSHIRE&quot;</td><td>&quot;A&quot;</td><td>&quot;A&quot;</td><td>2025-06-06 08:35:08.585203 UTC</td></tr><tr><td>&hellip;</td><td>&hellip;</td><td>&hellip;</td><td>&hellip;</td><td>&hellip;</td><td>&hellip;</td><td>&hellip;</td><td>&hellip;</td><td>&hellip;</td><td>&hellip;</td><td>&hellip;</td><td>&hellip;</td><td>&hellip;</td><td>&hellip;</td><td>&hellip;</td><td>&hellip;</td><td>&hellip;</td></tr><tr><td>&quot;{EA3278A9-E061-2676-E053-6B04A…</td><td>205000</td><td>2022-06-27</td><td>&quot;SK14 4AF&quot;</td><td>&quot;S&quot;</td><td>&quot;N&quot;</td><td>&quot;L&quot;</td><td>&quot;71&quot;</td><td>&quot;&quot;</td><td>&quot;DANBY CLOSE&quot;</td><td>&quot;&quot;</td><td>&quot;HYDE&quot;</td><td>&quot;TAMESIDE&quot;</td><td>&quot;GREATER MANCHESTER&quot;</td><td>&quot;A&quot;</td><td>&quot;A&quot;</td><td>2025-06-06 08:35:08.585203 UTC</td></tr><tr><td>&quot;{EA3278A9-E062-2676-E053-6B04A…</td><td>195000</td><td>2022-09-02</td><td>&quot;BL2 5QZ&quot;</td><td>&quot;T&quot;</td><td>&quot;N&quot;</td><td>&quot;F&quot;</td><td>&quot;14&quot;</td><td>&quot;&quot;</td><td>&quot;BANKFIELD CLOSE&quot;</td><td>&quot;AINSWORTH&quot;</td><td>&quot;BOLTON&quot;</td><td>&quot;BURY&quot;</td><td>&quot;GREATER MANCHESTER&quot;</td><td>&quot;A&quot;</td><td>&quot;A&quot;</td><td>2025-06-06 08:35:08.585203 UTC</td></tr><tr><td>&quot;{EA3278A9-E064-2676-E053-6B04A…</td><td>186000</td><td>2022-07-22</td><td>&quot;WN6 0SX&quot;</td><td>&quot;S&quot;</td><td>&quot;N&quot;</td><td>&quot;L&quot;</td><td>&quot;10&quot;</td><td>&quot;&quot;</td><td>&quot;BARBROOK CLOSE&quot;</td><td>&quot;STANDISH&quot;</td><td>&quot;WIGAN&quot;</td><td>&quot;WIGAN&quot;</td><td>&quot;GREATER MANCHESTER&quot;</td><td>&quot;A&quot;</td><td>&quot;A&quot;</td><td>2025-06-06 08:35:08.585203 UTC</td></tr><tr><td>&quot;{EA3278A9-E065-2676-E053-6B04A…</td><td>225000</td><td>2022-08-19</td><td>&quot;M45 7FL&quot;</td><td>&quot;S&quot;</td><td>&quot;N&quot;</td><td>&quot;F&quot;</td><td>&quot;29&quot;</td><td>&quot;&quot;</td><td>&quot;BURY NEW ROAD&quot;</td><td>&quot;WHITEFIELD&quot;</td><td>&quot;MANCHESTER&quot;</td><td>&quot;BURY&quot;</td><td>&quot;GREATER MANCHESTER&quot;</td><td>&quot;A&quot;</td><td>&quot;A&quot;</td><td>2025-06-06 08:35:08.585203 UTC</td></tr><tr><td>&quot;{EA3278A9-E066-2676-E053-6B04A…</td><td>150000</td><td>2022-07-27</td><td>&quot;M34 3HU&quot;</td><td>&quot;T&quot;</td><td>&quot;N&quot;</td><td>&quot;F&quot;</td><td>&quot;29&quot;</td><td>&quot;&quot;</td><td>&quot;BOOTH STREET&quot;</td><td>&quot;DENTON&quot;</td><td>&quot;MANCHESTER&quot;</td><td>&quot;TAMESIDE&quot;</td><td>&quot;GREATER MANCHESTER&quot;</td><td>&quot;A&quot;</td><td>&quot;A&quot;</td><td>2025-06-06 08:35:08.585203 UTC</td></tr></tbody></table></div>"
      ],
      "text/plain": [
       "shape: (1_069_660, 17)\n",
       "┌────────────┬────────┬────────────┬──────────┬───┬────────────┬───────────┬───────────┬───────────┐\n",
       "│ transactio ┆ price  ┆ date_of_tr ┆ postcode ┆ … ┆ county     ┆ ppd_categ ┆ record_st ┆ _loaded_a │\n",
       "│ n_id       ┆ ---    ┆ ansfer     ┆ ---      ┆   ┆ ---        ┆ ory_type  ┆ atus      ┆ t         │\n",
       "│ ---        ┆ i64    ┆ ---        ┆ str      ┆   ┆ str        ┆ ---       ┆ ---       ┆ ---       │\n",
       "│ str        ┆        ┆ date       ┆          ┆   ┆            ┆ str       ┆ str       ┆ datetime[ │\n",
       "│            ┆        ┆            ┆          ┆   ┆            ┆           ┆           ┆ μs, UTC]  │\n",
       "╞════════════╪════════╪════════════╪══════════╪═══╪════════════╪═══════════╪═══════════╪═══════════╡\n",
       "│ {DBA933F9- ┆ 205000 ┆ 2022-02-18 ┆ DL9 4RS  ┆ … ┆ NORTH      ┆ A         ┆ A         ┆ 2025-06-0 │\n",
       "│ D5BC-669D- ┆        ┆            ┆          ┆   ┆ YORKSHIRE  ┆           ┆           ┆ 6 08:35:0 │\n",
       "│ E053-6B04A ┆        ┆            ┆          ┆   ┆            ┆           ┆           ┆ 8.585203  │\n",
       "│ …          ┆        ┆            ┆          ┆   ┆            ┆           ┆           ┆ UTC       │\n",
       "│ {DBA933F9- ┆ 220000 ┆ 2022-02-14 ┆ YO12 7ND ┆ … ┆ NORTH      ┆ A         ┆ A         ┆ 2025-06-0 │\n",
       "│ D5BE-669D- ┆        ┆            ┆          ┆   ┆ YORKSHIRE  ┆           ┆           ┆ 6 08:35:0 │\n",
       "│ E053-6B04A ┆        ┆            ┆          ┆   ┆            ┆           ┆           ┆ 8.585203  │\n",
       "│ …          ┆        ┆            ┆          ┆   ┆            ┆           ┆           ┆ UTC       │\n",
       "│ {DBA933F9- ┆ 775000 ┆ 2022-02-22 ┆ HG5 0TT  ┆ … ┆ NORTH      ┆ A         ┆ A         ┆ 2025-06-0 │\n",
       "│ D5C0-669D- ┆        ┆            ┆          ┆   ┆ YORKSHIRE  ┆           ┆           ┆ 6 08:35:0 │\n",
       "│ E053-6B04A ┆        ┆            ┆          ┆   ┆            ┆           ┆           ┆ 8.585203  │\n",
       "│ …          ┆        ┆            ┆          ┆   ┆            ┆           ┆           ┆ UTC       │\n",
       "│ {DBA933F9- ┆ 450000 ┆ 2022-03-04 ┆ YO31 1BU ┆ … ┆ YORK       ┆ A         ┆ A         ┆ 2025-06-0 │\n",
       "│ D5C6-669D- ┆        ┆            ┆          ┆   ┆            ┆           ┆           ┆ 6 08:35:0 │\n",
       "│ E053-6B04A ┆        ┆            ┆          ┆   ┆            ┆           ┆           ┆ 8.585203  │\n",
       "│ …          ┆        ┆            ┆          ┆   ┆            ┆           ┆           ┆ UTC       │\n",
       "│ {DBA933F9- ┆ 175000 ┆ 2022-02-25 ┆ LA2 7EB  ┆ … ┆ NORTH      ┆ A         ┆ A         ┆ 2025-06-0 │\n",
       "│ D5CC-669D- ┆        ┆            ┆          ┆   ┆ YORKSHIRE  ┆           ┆           ┆ 6 08:35:0 │\n",
       "│ E053-6B04A ┆        ┆            ┆          ┆   ┆            ┆           ┆           ┆ 8.585203  │\n",
       "│ …          ┆        ┆            ┆          ┆   ┆            ┆           ┆           ┆ UTC       │\n",
       "│ …          ┆ …      ┆ …          ┆ …        ┆ … ┆ …          ┆ …         ┆ …         ┆ …         │\n",
       "│ {EA3278A9- ┆ 205000 ┆ 2022-06-27 ┆ SK14 4AF ┆ … ┆ GREATER    ┆ A         ┆ A         ┆ 2025-06-0 │\n",
       "│ E061-2676- ┆        ┆            ┆          ┆   ┆ MANCHESTER ┆           ┆           ┆ 6 08:35:0 │\n",
       "│ E053-6B04A ┆        ┆            ┆          ┆   ┆            ┆           ┆           ┆ 8.585203  │\n",
       "│ …          ┆        ┆            ┆          ┆   ┆            ┆           ┆           ┆ UTC       │\n",
       "│ {EA3278A9- ┆ 195000 ┆ 2022-09-02 ┆ BL2 5QZ  ┆ … ┆ GREATER    ┆ A         ┆ A         ┆ 2025-06-0 │\n",
       "│ E062-2676- ┆        ┆            ┆          ┆   ┆ MANCHESTER ┆           ┆           ┆ 6 08:35:0 │\n",
       "│ E053-6B04A ┆        ┆            ┆          ┆   ┆            ┆           ┆           ┆ 8.585203  │\n",
       "│ …          ┆        ┆            ┆          ┆   ┆            ┆           ┆           ┆ UTC       │\n",
       "│ {EA3278A9- ┆ 186000 ┆ 2022-07-22 ┆ WN6 0SX  ┆ … ┆ GREATER    ┆ A         ┆ A         ┆ 2025-06-0 │\n",
       "│ E064-2676- ┆        ┆            ┆          ┆   ┆ MANCHESTER ┆           ┆           ┆ 6 08:35:0 │\n",
       "│ E053-6B04A ┆        ┆            ┆          ┆   ┆            ┆           ┆           ┆ 8.585203  │\n",
       "│ …          ┆        ┆            ┆          ┆   ┆            ┆           ┆           ┆ UTC       │\n",
       "│ {EA3278A9- ┆ 225000 ┆ 2022-08-19 ┆ M45 7FL  ┆ … ┆ GREATER    ┆ A         ┆ A         ┆ 2025-06-0 │\n",
       "│ E065-2676- ┆        ┆            ┆          ┆   ┆ MANCHESTER ┆           ┆           ┆ 6 08:35:0 │\n",
       "│ E053-6B04A ┆        ┆            ┆          ┆   ┆            ┆           ┆           ┆ 8.585203  │\n",
       "│ …          ┆        ┆            ┆          ┆   ┆            ┆           ┆           ┆ UTC       │\n",
       "│ {EA3278A9- ┆ 150000 ┆ 2022-07-27 ┆ M34 3HU  ┆ … ┆ GREATER    ┆ A         ┆ A         ┆ 2025-06-0 │\n",
       "│ E066-2676- ┆        ┆            ┆          ┆   ┆ MANCHESTER ┆           ┆           ┆ 6 08:35:0 │\n",
       "│ E053-6B04A ┆        ┆            ┆          ┆   ┆            ┆           ┆           ┆ 8.585203  │\n",
       "│ …          ┆        ┆            ┆          ┆   ┆            ┆           ┆           ┆ UTC       │\n",
       "└────────────┴────────┴────────────┴──────────┴───┴────────────┴───────────┴───────────┴───────────┘"
      ]
     },
     "execution_count": 3,
     "metadata": {},
     "output_type": "execute_result"
    }
   ],
   "source": [
    "timestamp = dt.datetime.now(tz=dt.UTC)\n",
    "house_prices_2022 = read_house_prices(\"data/house_prices/pp-2022.csv\").with_columns(\n",
    "    pl.lit(timestamp).alias(\"_loaded_at\")\n",
    ")\n",
    "house_prices_2022"
   ]
  },
  {
   "cell_type": "code",
   "execution_count": 4,
   "id": "lEQa",
   "metadata": {},
   "outputs": [
    {
     "name": "stdout",
     "output_type": "stream",
     "text": [
      "PyArrow table contains more columns: _loaded_at. Update the schema first (hint, use union_by_name).\n"
     ]
    }
   ],
   "source": [
    "try:\n",
    "    house_prices_t.upsert(house_prices_2022.to_arrow())\n",
    "except ValueError as e:\n",
    "    # Print out the error message instead of crashing\n",
    "    print(e.args[0])"
   ]
  },
  {
   "cell_type": "markdown",
   "id": "PKri",
   "metadata": {
    "marimo": {
     "config": {
      "hide_code": true
     }
    }
   },
   "source": [
    "Pyiceberg is preventing us from doing something we shouldn't - Iceberg has a fixed schema, so we can't just add arbitrary columns to it. We need to update the schema to accomodate our new column.\n",
    "\n",
    "```{note}\n",
    "Pyiceberg gives us the ability to do this within a transaction to live up to Iceberg's ACID guarantees.\n",
    "```\n",
    "The new schema is added to the Iceberg metadata in the `schemas` array. Note that each of our snapshots reference the schema at the time the data was written. That way Iceberg can keep track of the schema evolution."
   ]
  },
  {
   "cell_type": "code",
   "execution_count": 5,
   "id": "8a830ebb-4f1b-43a2-bd0b-c4ba83600e20",
   "metadata": {},
   "outputs": [],
   "source": [
    "from pyiceberg.types import TimestamptzType\n",
    "\n",
    "with house_prices_t.update_schema() as schema:\n",
    "    schema.add_column(\n",
    "        \"_loaded_at\", TimestamptzType(), doc=\"The date this row was loaded\"\n",
    "    )"
   ]
  },
  {
   "cell_type": "markdown",
   "id": "966df564-d75f-4920-aa7c-e1caf20be143",
   "metadata": {},
   "source": [
    "Looking at our metadata again - what's changed?"
   ]
  },
  {
   "cell_type": "code",
   "execution_count": 6,
   "id": "a29d7229-ae1c-44e4-8536-1ebf1870fdda",
   "metadata": {},
   "outputs": [
    {
     "data": {
      "application/json": {
       "current-schema-id": 1,
       "current-snapshot-id": 1990484925050035000,
       "default-sort-order-id": 0,
       "default-spec-id": 0,
       "format-version": 2,
       "last-column-id": 17,
       "last-partition-id": 999,
       "last-sequence-number": 2,
       "last-updated-ms": 1749198974812,
       "location": "s3://warehouse/housing/staging",
       "metadata-log": [
        {
         "metadata-file": "s3://warehouse/housing/staging/metadata/00000-0197444f-b9ca-7c20-9d1f-bbe4c4e97802.gz.metadata.json",
         "timestamp-ms": 1749197765067
        },
        {
         "metadata-file": "s3://warehouse/housing/staging/metadata/00001-01974451-86ac-70e0-96b4-a31da2a2eae5.gz.metadata.json",
         "timestamp-ms": 1749197883013
        },
        {
         "metadata-file": "s3://warehouse/housing/staging/metadata/00002-01974458-15a3-7b03-b2a2-8c90075f8adc.gz.metadata.json",
         "timestamp-ms": 1749198312837
        }
       ],
       "partition-specs": [
        {
         "fields": [],
         "spec-id": 0
        }
       ],
       "refs": {
        "main": {
         "snapshot-id": 1990484925050035000,
         "type": "branch"
        }
       },
       "schemas": [
        {
         "fields": [
          {
           "doc": "A reference number which is generated automatically recording each published sale. The number is unique and will change each time a sale is recorded.",
           "id": 1,
           "name": "transaction_id",
           "required": true,
           "type": "string"
          },
          {
           "doc": "Sale price stated on the transfer deed.",
           "id": 2,
           "name": "price",
           "required": true,
           "type": "int"
          },
          {
           "doc": "Date when the sale was completed, as stated on the transfer deed.",
           "id": 3,
           "name": "date_of_transfer",
           "required": true,
           "type": "date"
          },
          {
           "doc": "This is the postcode used at the time of the original transaction. Note that postcodes can be reallocated and these changes are not reflected in the Price Paid Dataset.",
           "id": 4,
           "name": "postcode",
           "required": true,
           "type": "string"
          },
          {
           "doc": "D = Detached, S = Semi-Detached, T = Terraced, F = Flats/Maisonettes, O = Other",
           "id": 5,
           "name": "property_type",
           "required": true,
           "type": "string"
          },
          {
           "doc": "Indicates the age of the property and applies to all price paid transactions, residential and non-residential. Y = a newly built property, N = an established residential building",
           "id": 6,
           "name": "new_property",
           "required": true,
           "type": "string"
          },
          {
           "doc": "Relates to the tenure: F = Freehold, L= Leasehold etc. Note that HM Land Registry does not record leases of 7 years or less in the Price Paid Dataset.",
           "id": 7,
           "name": "duration",
           "required": true,
           "type": "string"
          },
          {
           "doc": "Primary Addressable Object Name. Typically the house number or name",
           "id": 8,
           "name": "paon",
           "required": false,
           "type": "string"
          },
          {
           "doc": "Secondary Addressable Object Name. Where a property has been divided into separate units (for example, flats), the PAON (above) will identify the building and a SAON will be specified that identifies the separate unit/flat.",
           "id": 9,
           "name": "saon",
           "required": false,
           "type": "string"
          },
          {
           "id": 10,
           "name": "street",
           "required": false,
           "type": "string"
          },
          {
           "id": 11,
           "name": "locality",
           "required": false,
           "type": "string"
          },
          {
           "id": 12,
           "name": "town",
           "required": false,
           "type": "string"
          },
          {
           "id": 13,
           "name": "district",
           "required": false,
           "type": "string"
          },
          {
           "id": 14,
           "name": "county",
           "required": false,
           "type": "string"
          },
          {
           "doc": "Indicates the type of Price Paid transaction. A = Standard Price Paid entry, includes single residential property sold for value. B = Additional Price Paid entry including transfers under a power of sale/repossessions, buy-to-lets (where they can be identified by a Mortgage), transfers to non-private individuals and sales where the property type is classed as ‘Other’.",
           "id": 15,
           "name": "ppd_category_type",
           "required": false,
           "type": "string"
          },
          {
           "doc": "Indicates additions, changes and deletions to the records. A = Addition C = Change D = Delete",
           "id": 16,
           "name": "record_status",
           "required": false,
           "type": "string"
          }
         ],
         "identifier-field-ids": [
          1
         ],
         "schema-id": 0,
         "type": "struct"
        },
        {
         "fields": [
          {
           "doc": "A reference number which is generated automatically recording each published sale. The number is unique and will change each time a sale is recorded.",
           "id": 1,
           "name": "transaction_id",
           "required": true,
           "type": "string"
          },
          {
           "doc": "Sale price stated on the transfer deed.",
           "id": 2,
           "name": "price",
           "required": true,
           "type": "int"
          },
          {
           "doc": "Date when the sale was completed, as stated on the transfer deed.",
           "id": 3,
           "name": "date_of_transfer",
           "required": true,
           "type": "date"
          },
          {
           "doc": "This is the postcode used at the time of the original transaction. Note that postcodes can be reallocated and these changes are not reflected in the Price Paid Dataset.",
           "id": 4,
           "name": "postcode",
           "required": true,
           "type": "string"
          },
          {
           "doc": "D = Detached, S = Semi-Detached, T = Terraced, F = Flats/Maisonettes, O = Other",
           "id": 5,
           "name": "property_type",
           "required": true,
           "type": "string"
          },
          {
           "doc": "Indicates the age of the property and applies to all price paid transactions, residential and non-residential. Y = a newly built property, N = an established residential building",
           "id": 6,
           "name": "new_property",
           "required": true,
           "type": "string"
          },
          {
           "doc": "Relates to the tenure: F = Freehold, L= Leasehold etc. Note that HM Land Registry does not record leases of 7 years or less in the Price Paid Dataset.",
           "id": 7,
           "name": "duration",
           "required": true,
           "type": "string"
          },
          {
           "doc": "Primary Addressable Object Name. Typically the house number or name",
           "id": 8,
           "name": "paon",
           "required": false,
           "type": "string"
          },
          {
           "doc": "Secondary Addressable Object Name. Where a property has been divided into separate units (for example, flats), the PAON (above) will identify the building and a SAON will be specified that identifies the separate unit/flat.",
           "id": 9,
           "name": "saon",
           "required": false,
           "type": "string"
          },
          {
           "id": 10,
           "name": "street",
           "required": false,
           "type": "string"
          },
          {
           "id": 11,
           "name": "locality",
           "required": false,
           "type": "string"
          },
          {
           "id": 12,
           "name": "town",
           "required": false,
           "type": "string"
          },
          {
           "id": 13,
           "name": "district",
           "required": false,
           "type": "string"
          },
          {
           "id": 14,
           "name": "county",
           "required": false,
           "type": "string"
          },
          {
           "doc": "Indicates the type of Price Paid transaction. A = Standard Price Paid entry, includes single residential property sold for value. B = Additional Price Paid entry including transfers under a power of sale/repossessions, buy-to-lets (where they can be identified by a Mortgage), transfers to non-private individuals and sales where the property type is classed as ‘Other’.",
           "id": 15,
           "name": "ppd_category_type",
           "required": false,
           "type": "string"
          },
          {
           "doc": "Indicates additions, changes and deletions to the records. A = Addition C = Change D = Delete",
           "id": 16,
           "name": "record_status",
           "required": false,
           "type": "string"
          },
          {
           "doc": "The date this row was loaded",
           "id": 17,
           "name": "_loaded_at",
           "required": false,
           "type": "timestamptz"
          }
         ],
         "identifier-field-ids": [
          1
         ],
         "schema-id": 1,
         "type": "struct"
        }
       ],
       "snapshot-log": [
        {
         "snapshot-id": 376089619872553340,
         "timestamp-ms": 1749197883013
        },
        {
         "snapshot-id": 1990484925050035000,
         "timestamp-ms": 1749198312837
        }
       ],
       "snapshots": [
        {
         "manifest-list": "s3://warehouse/housing/staging/metadata/snap-1990484925050034825-0-7f71c78a-7820-42b0-89f7-595698c57d10.avro",
         "parent-snapshot-id": 376089619872553340,
         "schema-id": 0,
         "sequence-number": 2,
         "snapshot-id": 1990484925050035000,
         "summary": {
          "added-data-files": "1",
          "added-files-size": "19164098",
          "added-records": "848435",
          "operation": "append",
          "total-data-files": "2",
          "total-delete-files": "0",
          "total-equality-deletes": "0",
          "total-files-size": "36375575",
          "total-position-deletes": "0",
          "total-records": "1615076"
         },
         "timestamp-ms": 1749198312837
        },
        {
         "manifest-list": "s3://warehouse/housing/staging/metadata/snap-376089619872553315-0-33d6af97-2386-45c9-9d71-a44ac4e66441.avro",
         "schema-id": 0,
         "sequence-number": 1,
         "snapshot-id": 376089619872553340,
         "summary": {
          "added-data-files": "1",
          "added-files-size": "17211477",
          "added-records": "766641",
          "operation": "append",
          "total-data-files": "1",
          "total-delete-files": "0",
          "total-equality-deletes": "0",
          "total-files-size": "17211477",
          "total-position-deletes": "0",
          "total-records": "766641"
         },
         "timestamp-ms": 1749197883013
        }
       ],
       "sort-orders": [
        {
         "fields": [],
         "order-id": 0
        }
       ],
       "table-uuid": "0197444f-b9c7-73c2-bf20-370708f96d1c"
      },
      "text/plain": [
       "<IPython.core.display.JSON object>"
      ]
     },
     "execution_count": 6,
     "metadata": {
      "application/json": {
       "expanded": false,
       "root": "root"
      }
     },
     "output_type": "execute_result"
    }
   ],
   "source": [
    "JSON(get_iceberg_metadata(fs, house_prices_t))"
   ]
  },
  {
   "cell_type": "markdown",
   "id": "SFPL",
   "metadata": {},
   "source": [
    "Now we have our `_loaded_at` column as part of the table schema, Iceberg is happy for us to add our data with the new column"
   ]
  },
  {
   "cell_type": "code",
   "execution_count": 7,
   "id": "27928670-1ff8-46a7-b8e9-f707e6cb50c9",
   "metadata": {},
   "outputs": [
    {
     "data": {
      "application/json": {
       "current-schema-id": 1,
       "current-snapshot-id": 1063926452435308800,
       "default-sort-order-id": 0,
       "default-spec-id": 0,
       "format-version": 2,
       "last-column-id": 17,
       "last-partition-id": 999,
       "last-sequence-number": 3,
       "last-updated-ms": 1749199030989,
       "location": "s3://warehouse/housing/staging",
       "metadata-log": [
        {
         "metadata-file": "s3://warehouse/housing/staging/metadata/00000-0197444f-b9ca-7c20-9d1f-bbe4c4e97802.gz.metadata.json",
         "timestamp-ms": 1749197765067
        },
        {
         "metadata-file": "s3://warehouse/housing/staging/metadata/00001-01974451-86ac-70e0-96b4-a31da2a2eae5.gz.metadata.json",
         "timestamp-ms": 1749197883013
        },
        {
         "metadata-file": "s3://warehouse/housing/staging/metadata/00002-01974458-15a3-7b03-b2a2-8c90075f8adc.gz.metadata.json",
         "timestamp-ms": 1749198312837
        },
        {
         "metadata-file": "s3://warehouse/housing/staging/metadata/00003-01974462-2f5c-7583-9f34-c01e4721a9cb.gz.metadata.json",
         "timestamp-ms": 1749198974812
        }
       ],
       "partition-specs": [
        {
         "fields": [],
         "spec-id": 0
        }
       ],
       "refs": {
        "main": {
         "snapshot-id": 1063926452435308800,
         "type": "branch"
        }
       },
       "schemas": [
        {
         "fields": [
          {
           "doc": "A reference number which is generated automatically recording each published sale. The number is unique and will change each time a sale is recorded.",
           "id": 1,
           "name": "transaction_id",
           "required": true,
           "type": "string"
          },
          {
           "doc": "Sale price stated on the transfer deed.",
           "id": 2,
           "name": "price",
           "required": true,
           "type": "int"
          },
          {
           "doc": "Date when the sale was completed, as stated on the transfer deed.",
           "id": 3,
           "name": "date_of_transfer",
           "required": true,
           "type": "date"
          },
          {
           "doc": "This is the postcode used at the time of the original transaction. Note that postcodes can be reallocated and these changes are not reflected in the Price Paid Dataset.",
           "id": 4,
           "name": "postcode",
           "required": true,
           "type": "string"
          },
          {
           "doc": "D = Detached, S = Semi-Detached, T = Terraced, F = Flats/Maisonettes, O = Other",
           "id": 5,
           "name": "property_type",
           "required": true,
           "type": "string"
          },
          {
           "doc": "Indicates the age of the property and applies to all price paid transactions, residential and non-residential. Y = a newly built property, N = an established residential building",
           "id": 6,
           "name": "new_property",
           "required": true,
           "type": "string"
          },
          {
           "doc": "Relates to the tenure: F = Freehold, L= Leasehold etc. Note that HM Land Registry does not record leases of 7 years or less in the Price Paid Dataset.",
           "id": 7,
           "name": "duration",
           "required": true,
           "type": "string"
          },
          {
           "doc": "Primary Addressable Object Name. Typically the house number or name",
           "id": 8,
           "name": "paon",
           "required": false,
           "type": "string"
          },
          {
           "doc": "Secondary Addressable Object Name. Where a property has been divided into separate units (for example, flats), the PAON (above) will identify the building and a SAON will be specified that identifies the separate unit/flat.",
           "id": 9,
           "name": "saon",
           "required": false,
           "type": "string"
          },
          {
           "id": 10,
           "name": "street",
           "required": false,
           "type": "string"
          },
          {
           "id": 11,
           "name": "locality",
           "required": false,
           "type": "string"
          },
          {
           "id": 12,
           "name": "town",
           "required": false,
           "type": "string"
          },
          {
           "id": 13,
           "name": "district",
           "required": false,
           "type": "string"
          },
          {
           "id": 14,
           "name": "county",
           "required": false,
           "type": "string"
          },
          {
           "doc": "Indicates the type of Price Paid transaction. A = Standard Price Paid entry, includes single residential property sold for value. B = Additional Price Paid entry including transfers under a power of sale/repossessions, buy-to-lets (where they can be identified by a Mortgage), transfers to non-private individuals and sales where the property type is classed as ‘Other’.",
           "id": 15,
           "name": "ppd_category_type",
           "required": false,
           "type": "string"
          },
          {
           "doc": "Indicates additions, changes and deletions to the records. A = Addition C = Change D = Delete",
           "id": 16,
           "name": "record_status",
           "required": false,
           "type": "string"
          }
         ],
         "identifier-field-ids": [
          1
         ],
         "schema-id": 0,
         "type": "struct"
        },
        {
         "fields": [
          {
           "doc": "A reference number which is generated automatically recording each published sale. The number is unique and will change each time a sale is recorded.",
           "id": 1,
           "name": "transaction_id",
           "required": true,
           "type": "string"
          },
          {
           "doc": "Sale price stated on the transfer deed.",
           "id": 2,
           "name": "price",
           "required": true,
           "type": "int"
          },
          {
           "doc": "Date when the sale was completed, as stated on the transfer deed.",
           "id": 3,
           "name": "date_of_transfer",
           "required": true,
           "type": "date"
          },
          {
           "doc": "This is the postcode used at the time of the original transaction. Note that postcodes can be reallocated and these changes are not reflected in the Price Paid Dataset.",
           "id": 4,
           "name": "postcode",
           "required": true,
           "type": "string"
          },
          {
           "doc": "D = Detached, S = Semi-Detached, T = Terraced, F = Flats/Maisonettes, O = Other",
           "id": 5,
           "name": "property_type",
           "required": true,
           "type": "string"
          },
          {
           "doc": "Indicates the age of the property and applies to all price paid transactions, residential and non-residential. Y = a newly built property, N = an established residential building",
           "id": 6,
           "name": "new_property",
           "required": true,
           "type": "string"
          },
          {
           "doc": "Relates to the tenure: F = Freehold, L= Leasehold etc. Note that HM Land Registry does not record leases of 7 years or less in the Price Paid Dataset.",
           "id": 7,
           "name": "duration",
           "required": true,
           "type": "string"
          },
          {
           "doc": "Primary Addressable Object Name. Typically the house number or name",
           "id": 8,
           "name": "paon",
           "required": false,
           "type": "string"
          },
          {
           "doc": "Secondary Addressable Object Name. Where a property has been divided into separate units (for example, flats), the PAON (above) will identify the building and a SAON will be specified that identifies the separate unit/flat.",
           "id": 9,
           "name": "saon",
           "required": false,
           "type": "string"
          },
          {
           "id": 10,
           "name": "street",
           "required": false,
           "type": "string"
          },
          {
           "id": 11,
           "name": "locality",
           "required": false,
           "type": "string"
          },
          {
           "id": 12,
           "name": "town",
           "required": false,
           "type": "string"
          },
          {
           "id": 13,
           "name": "district",
           "required": false,
           "type": "string"
          },
          {
           "id": 14,
           "name": "county",
           "required": false,
           "type": "string"
          },
          {
           "doc": "Indicates the type of Price Paid transaction. A = Standard Price Paid entry, includes single residential property sold for value. B = Additional Price Paid entry including transfers under a power of sale/repossessions, buy-to-lets (where they can be identified by a Mortgage), transfers to non-private individuals and sales where the property type is classed as ‘Other’.",
           "id": 15,
           "name": "ppd_category_type",
           "required": false,
           "type": "string"
          },
          {
           "doc": "Indicates additions, changes and deletions to the records. A = Addition C = Change D = Delete",
           "id": 16,
           "name": "record_status",
           "required": false,
           "type": "string"
          },
          {
           "doc": "The date this row was loaded",
           "id": 17,
           "name": "_loaded_at",
           "required": false,
           "type": "timestamptz"
          }
         ],
         "identifier-field-ids": [
          1
         ],
         "schema-id": 1,
         "type": "struct"
        }
       ],
       "snapshot-log": [
        {
         "snapshot-id": 376089619872553340,
         "timestamp-ms": 1749197883013
        },
        {
         "snapshot-id": 1990484925050035000,
         "timestamp-ms": 1749198312837
        },
        {
         "snapshot-id": 1063926452435308800,
         "timestamp-ms": 1749199030989
        }
       ],
       "snapshots": [
        {
         "manifest-list": "s3://warehouse/housing/staging/metadata/snap-1990484925050034825-0-7f71c78a-7820-42b0-89f7-595698c57d10.avro",
         "parent-snapshot-id": 376089619872553340,
         "schema-id": 0,
         "sequence-number": 2,
         "snapshot-id": 1990484925050035000,
         "summary": {
          "added-data-files": "1",
          "added-files-size": "19164098",
          "added-records": "848435",
          "operation": "append",
          "total-data-files": "2",
          "total-delete-files": "0",
          "total-equality-deletes": "0",
          "total-files-size": "36375575",
          "total-position-deletes": "0",
          "total-records": "1615076"
         },
         "timestamp-ms": 1749198312837
        },
        {
         "manifest-list": "s3://warehouse/housing/staging/metadata/snap-1063926452435308816-0-baa7c48c-399e-4724-8ea7-1abcb7a347fe.avro",
         "parent-snapshot-id": 1990484925050035000,
         "schema-id": 1,
         "sequence-number": 3,
         "snapshot-id": 1063926452435308800,
         "summary": {
          "added-data-files": "1",
          "added-files-size": "24266460",
          "added-records": "1069660",
          "operation": "append",
          "total-data-files": "3",
          "total-delete-files": "0",
          "total-equality-deletes": "0",
          "total-files-size": "60642035",
          "total-position-deletes": "0",
          "total-records": "2684736"
         },
         "timestamp-ms": 1749199030989
        },
        {
         "manifest-list": "s3://warehouse/housing/staging/metadata/snap-376089619872553315-0-33d6af97-2386-45c9-9d71-a44ac4e66441.avro",
         "schema-id": 0,
         "sequence-number": 1,
         "snapshot-id": 376089619872553340,
         "summary": {
          "added-data-files": "1",
          "added-files-size": "17211477",
          "added-records": "766641",
          "operation": "append",
          "total-data-files": "1",
          "total-delete-files": "0",
          "total-equality-deletes": "0",
          "total-files-size": "17211477",
          "total-position-deletes": "0",
          "total-records": "766641"
         },
         "timestamp-ms": 1749197883013
        }
       ],
       "sort-orders": [
        {
         "fields": [],
         "order-id": 0
        }
       ],
       "table-uuid": "0197444f-b9c7-73c2-bf20-370708f96d1c"
      },
      "text/plain": [
       "<IPython.core.display.JSON object>"
      ]
     },
     "execution_count": 7,
     "metadata": {
      "application/json": {
       "expanded": false,
       "root": "root"
      }
     },
     "output_type": "execute_result"
    }
   ],
   "source": [
    "house_prices_t.append(\n",
    "    house_prices_2022.to_arrow().cast(house_prices_t.schema().as_arrow())\n",
    ")\n",
    "\n",
    "JSON(get_iceberg_metadata(fs, house_prices_t))"
   ]
  },
  {
   "attachments": {},
   "cell_type": "markdown",
   "id": "e4051e2e-f873-4746-8a3e-584011c3c411",
   "metadata": {},
   "source": [
    "What about the data we already added? How would we modify that data? Here we start running into some limitations of a foundational library like `pyiceberg` - we can do it (bonus homework - how would you do it in pyiceberg natively?), but wouldn't it be much easier to write an `UPDATE` in SQL and not have to worry about the details?\n",
    "\n",
    "This is the power of Iceberg - we have the ability to switch query engines to suit our usecase - in this case, I want to use Trino to update the data back in time.\n",
    "\n",
    "Let's verify how many nulls we have - the data we just added should have `_loaded_at` filled in, but the rest should be null."
   ]
  },
  {
   "cell_type": "code",
   "execution_count": 8,
   "id": "Kclp",
   "metadata": {},
   "outputs": [],
   "source": [
    "engine = sa.create_engine(\"trino://trino:@trino:8080/lakekeeper\")"
   ]
  },
  {
   "cell_type": "code",
   "execution_count": 9,
   "id": "emfo",
   "metadata": {},
   "outputs": [
    {
     "data": {
      "text/html": [
       "<div><style>\n",
       ".dataframe > thead > tr,\n",
       ".dataframe > tbody > tr {\n",
       "  text-align: right;\n",
       "  white-space: pre-wrap;\n",
       "}\n",
       "</style>\n",
       "<small>shape: (1, 2)</small><table border=\"1\" class=\"dataframe\"><thead><tr><th>total_rows</th><th>null_count</th></tr><tr><td>i64</td><td>i64</td></tr></thead><tbody><tr><td>2684736</td><td>1615076</td></tr></tbody></table></div>"
      ],
      "text/plain": [
       "shape: (1, 2)\n",
       "┌────────────┬────────────┐\n",
       "│ total_rows ┆ null_count │\n",
       "│ ---        ┆ ---        │\n",
       "│ i64        ┆ i64        │\n",
       "╞════════════╪════════════╡\n",
       "│ 2684736    ┆ 1615076    │\n",
       "└────────────┴────────────┘"
      ]
     },
     "execution_count": 9,
     "metadata": {},
     "output_type": "execute_result"
    }
   ],
   "source": [
    "null_count_sql = \"\"\"\n",
    "SELECT\n",
    "    COUNT(*) as total_rows,\n",
    "    COUNT_IF(_loaded_at IS NULL) as null_count\n",
    "FROM housing.staging_prices\n",
    "    \"\"\"\n",
    "pl.read_database(null_count_sql, engine)"
   ]
  },
  {
   "cell_type": "markdown",
   "id": "e2bb8623-bcbf-4824-9c3d-d27036e19b20",
   "metadata": {},
   "source": [
    "A simple UPDATE in SQL saves us many lines of Python code"
   ]
  },
  {
   "cell_type": "code",
   "execution_count": 10,
   "id": "nWHF",
   "metadata": {},
   "outputs": [
    {
     "name": "stdout",
     "output_type": "stream",
     "text": [
      "Updated 1,615,076 rows\n"
     ]
    }
   ],
   "source": [
    "with engine.connect() as conn:\n",
    "    sql = f\"UPDATE housing.staging_prices SET _loaded_at = from_iso8601_timestamp('{timestamp.isoformat()}') WHERE _loaded_at is null\"\n",
    "    result = conn.execute(sa.text(sql))\n",
    "    print(f\"Updated {result.scalar_one():,} rows\")"
   ]
  },
  {
   "cell_type": "code",
   "execution_count": 11,
   "id": "iLit",
   "metadata": {},
   "outputs": [
    {
     "data": {
      "text/html": [
       "<div><style>\n",
       ".dataframe > thead > tr,\n",
       ".dataframe > tbody > tr {\n",
       "  text-align: right;\n",
       "  white-space: pre-wrap;\n",
       "}\n",
       "</style>\n",
       "<small>shape: (1, 2)</small><table border=\"1\" class=\"dataframe\"><thead><tr><th>total_rows</th><th>null_count</th></tr><tr><td>i64</td><td>i64</td></tr></thead><tbody><tr><td>2684736</td><td>0</td></tr></tbody></table></div>"
      ],
      "text/plain": [
       "shape: (1, 2)\n",
       "┌────────────┬────────────┐\n",
       "│ total_rows ┆ null_count │\n",
       "│ ---        ┆ ---        │\n",
       "│ i64        ┆ i64        │\n",
       "╞════════════╪════════════╡\n",
       "│ 2684736    ┆ 0          │\n",
       "└────────────┴────────────┘"
      ]
     },
     "execution_count": 11,
     "metadata": {},
     "output_type": "execute_result"
    }
   ],
   "source": [
    "pl.read_database(null_count_sql, engine)"
   ]
  },
  {
   "cell_type": "markdown",
   "id": "ZHCJ",
   "metadata": {},
   "source": [
    "We should now have a new snapshot - let's have a peek.\n",
    "\n",
    "```{warning} Keep metadata in sync\n",
    "Pyiceberg doesn't yet know about our Trino update - we need to refresh the metadata to get the latest metadata from the catalog\n",
    "```"
   ]
  },
  {
   "cell_type": "code",
   "execution_count": 12,
   "id": "ade27916-3536-4ab8-a24c-1ee72bad7d0a",
   "metadata": {},
   "outputs": [],
   "source": [
    "house_prices_t.refresh();"
   ]
  },
  {
   "cell_type": "code",
   "execution_count": 13,
   "id": "ROlb",
   "metadata": {},
   "outputs": [
    {
     "data": {
      "application/json": {
       "current-schema-id": 1,
       "current-snapshot-id": 5843758373603936000,
       "default-sort-order-id": 0,
       "default-spec-id": 0,
       "format-version": 2,
       "last-column-id": 17,
       "last-partition-id": 999,
       "last-sequence-number": 4,
       "last-updated-ms": 1749199103088,
       "location": "s3://warehouse/housing/staging",
       "metadata-log": [
        {
         "metadata-file": "s3://warehouse/housing/staging/metadata/00000-0197444f-b9ca-7c20-9d1f-bbe4c4e97802.gz.metadata.json",
         "timestamp-ms": 1749197765067
        },
        {
         "metadata-file": "s3://warehouse/housing/staging/metadata/00001-01974451-86ac-70e0-96b4-a31da2a2eae5.gz.metadata.json",
         "timestamp-ms": 1749197883013
        },
        {
         "metadata-file": "s3://warehouse/housing/staging/metadata/00002-01974458-15a3-7b03-b2a2-8c90075f8adc.gz.metadata.json",
         "timestamp-ms": 1749198312837
        },
        {
         "metadata-file": "s3://warehouse/housing/staging/metadata/00003-01974462-2f5c-7583-9f34-c01e4721a9cb.gz.metadata.json",
         "timestamp-ms": 1749198974812
        },
        {
         "metadata-file": "s3://warehouse/housing/staging/metadata/00004-01974463-0ad7-76b3-bfb8-ed4762806136.gz.metadata.json",
         "timestamp-ms": 1749199030989
        }
       ],
       "partition-specs": [
        {
         "fields": [],
         "spec-id": 0
        }
       ],
       "refs": {
        "main": {
         "snapshot-id": 5843758373603936000,
         "type": "branch"
        }
       },
       "schemas": [
        {
         "fields": [
          {
           "doc": "A reference number which is generated automatically recording each published sale. The number is unique and will change each time a sale is recorded.",
           "id": 1,
           "name": "transaction_id",
           "required": true,
           "type": "string"
          },
          {
           "doc": "Sale price stated on the transfer deed.",
           "id": 2,
           "name": "price",
           "required": true,
           "type": "int"
          },
          {
           "doc": "Date when the sale was completed, as stated on the transfer deed.",
           "id": 3,
           "name": "date_of_transfer",
           "required": true,
           "type": "date"
          },
          {
           "doc": "This is the postcode used at the time of the original transaction. Note that postcodes can be reallocated and these changes are not reflected in the Price Paid Dataset.",
           "id": 4,
           "name": "postcode",
           "required": true,
           "type": "string"
          },
          {
           "doc": "D = Detached, S = Semi-Detached, T = Terraced, F = Flats/Maisonettes, O = Other",
           "id": 5,
           "name": "property_type",
           "required": true,
           "type": "string"
          },
          {
           "doc": "Indicates the age of the property and applies to all price paid transactions, residential and non-residential. Y = a newly built property, N = an established residential building",
           "id": 6,
           "name": "new_property",
           "required": true,
           "type": "string"
          },
          {
           "doc": "Relates to the tenure: F = Freehold, L= Leasehold etc. Note that HM Land Registry does not record leases of 7 years or less in the Price Paid Dataset.",
           "id": 7,
           "name": "duration",
           "required": true,
           "type": "string"
          },
          {
           "doc": "Primary Addressable Object Name. Typically the house number or name",
           "id": 8,
           "name": "paon",
           "required": false,
           "type": "string"
          },
          {
           "doc": "Secondary Addressable Object Name. Where a property has been divided into separate units (for example, flats), the PAON (above) will identify the building and a SAON will be specified that identifies the separate unit/flat.",
           "id": 9,
           "name": "saon",
           "required": false,
           "type": "string"
          },
          {
           "id": 10,
           "name": "street",
           "required": false,
           "type": "string"
          },
          {
           "id": 11,
           "name": "locality",
           "required": false,
           "type": "string"
          },
          {
           "id": 12,
           "name": "town",
           "required": false,
           "type": "string"
          },
          {
           "id": 13,
           "name": "district",
           "required": false,
           "type": "string"
          },
          {
           "id": 14,
           "name": "county",
           "required": false,
           "type": "string"
          },
          {
           "doc": "Indicates the type of Price Paid transaction. A = Standard Price Paid entry, includes single residential property sold for value. B = Additional Price Paid entry including transfers under a power of sale/repossessions, buy-to-lets (where they can be identified by a Mortgage), transfers to non-private individuals and sales where the property type is classed as ‘Other’.",
           "id": 15,
           "name": "ppd_category_type",
           "required": false,
           "type": "string"
          },
          {
           "doc": "Indicates additions, changes and deletions to the records. A = Addition C = Change D = Delete",
           "id": 16,
           "name": "record_status",
           "required": false,
           "type": "string"
          },
          {
           "doc": "The date this row was loaded",
           "id": 17,
           "name": "_loaded_at",
           "required": false,
           "type": "timestamptz"
          }
         ],
         "identifier-field-ids": [
          1
         ],
         "schema-id": 1,
         "type": "struct"
        },
        {
         "fields": [
          {
           "doc": "A reference number which is generated automatically recording each published sale. The number is unique and will change each time a sale is recorded.",
           "id": 1,
           "name": "transaction_id",
           "required": true,
           "type": "string"
          },
          {
           "doc": "Sale price stated on the transfer deed.",
           "id": 2,
           "name": "price",
           "required": true,
           "type": "int"
          },
          {
           "doc": "Date when the sale was completed, as stated on the transfer deed.",
           "id": 3,
           "name": "date_of_transfer",
           "required": true,
           "type": "date"
          },
          {
           "doc": "This is the postcode used at the time of the original transaction. Note that postcodes can be reallocated and these changes are not reflected in the Price Paid Dataset.",
           "id": 4,
           "name": "postcode",
           "required": true,
           "type": "string"
          },
          {
           "doc": "D = Detached, S = Semi-Detached, T = Terraced, F = Flats/Maisonettes, O = Other",
           "id": 5,
           "name": "property_type",
           "required": true,
           "type": "string"
          },
          {
           "doc": "Indicates the age of the property and applies to all price paid transactions, residential and non-residential. Y = a newly built property, N = an established residential building",
           "id": 6,
           "name": "new_property",
           "required": true,
           "type": "string"
          },
          {
           "doc": "Relates to the tenure: F = Freehold, L= Leasehold etc. Note that HM Land Registry does not record leases of 7 years or less in the Price Paid Dataset.",
           "id": 7,
           "name": "duration",
           "required": true,
           "type": "string"
          },
          {
           "doc": "Primary Addressable Object Name. Typically the house number or name",
           "id": 8,
           "name": "paon",
           "required": false,
           "type": "string"
          },
          {
           "doc": "Secondary Addressable Object Name. Where a property has been divided into separate units (for example, flats), the PAON (above) will identify the building and a SAON will be specified that identifies the separate unit/flat.",
           "id": 9,
           "name": "saon",
           "required": false,
           "type": "string"
          },
          {
           "id": 10,
           "name": "street",
           "required": false,
           "type": "string"
          },
          {
           "id": 11,
           "name": "locality",
           "required": false,
           "type": "string"
          },
          {
           "id": 12,
           "name": "town",
           "required": false,
           "type": "string"
          },
          {
           "id": 13,
           "name": "district",
           "required": false,
           "type": "string"
          },
          {
           "id": 14,
           "name": "county",
           "required": false,
           "type": "string"
          },
          {
           "doc": "Indicates the type of Price Paid transaction. A = Standard Price Paid entry, includes single residential property sold for value. B = Additional Price Paid entry including transfers under a power of sale/repossessions, buy-to-lets (where they can be identified by a Mortgage), transfers to non-private individuals and sales where the property type is classed as ‘Other’.",
           "id": 15,
           "name": "ppd_category_type",
           "required": false,
           "type": "string"
          },
          {
           "doc": "Indicates additions, changes and deletions to the records. A = Addition C = Change D = Delete",
           "id": 16,
           "name": "record_status",
           "required": false,
           "type": "string"
          }
         ],
         "identifier-field-ids": [
          1
         ],
         "schema-id": 0,
         "type": "struct"
        }
       ],
       "snapshot-log": [
        {
         "snapshot-id": 376089619872553340,
         "timestamp-ms": 1749197883013
        },
        {
         "snapshot-id": 1990484925050035000,
         "timestamp-ms": 1749198312837
        },
        {
         "snapshot-id": 1063926452435308800,
         "timestamp-ms": 1749199030989
        },
        {
         "snapshot-id": 5843758373603936000,
         "timestamp-ms": 1749199103088
        }
       ],
       "snapshots": [
        {
         "manifest-list": "s3://warehouse/housing/staging/metadata/snap-5843758373603936520-1-8ff36658-ebd8-476b-b69a-94fd7b5b07b1.avro",
         "parent-snapshot-id": 1063926452435308800,
         "schema-id": 1,
         "sequence-number": 4,
         "snapshot-id": 5843758373603936000,
         "summary": {
          "added-data-files": "1",
          "added-delete-files": "2",
          "added-files-size": "37048343",
          "added-position-delete-files": "2",
          "added-position-deletes": "1615076",
          "added-records": "1615076",
          "changed-partition-count": "1",
          "engine-name": "trino",
          "engine-version": "475",
          "iceberg-version": "Apache Iceberg 1.8.1 (commit 9ce0fcf0af7becf25ad9fc996c3bad2afdcfd33d)",
          "operation": "overwrite",
          "total-data-files": "4",
          "total-delete-files": "2",
          "total-equality-deletes": "0",
          "total-files-size": "97690378",
          "total-position-deletes": "1615076",
          "total-records": "4299812",
          "trino_query_id": "20250606_083814_00002_syd2g",
          "trino_user": "trino"
         },
         "timestamp-ms": 1749199103088
        },
        {
         "manifest-list": "s3://warehouse/housing/staging/metadata/snap-1063926452435308816-0-baa7c48c-399e-4724-8ea7-1abcb7a347fe.avro",
         "parent-snapshot-id": 1990484925050035000,
         "schema-id": 1,
         "sequence-number": 3,
         "snapshot-id": 1063926452435308800,
         "summary": {
          "added-data-files": "1",
          "added-files-size": "24266460",
          "added-records": "1069660",
          "operation": "append",
          "total-data-files": "3",
          "total-delete-files": "0",
          "total-equality-deletes": "0",
          "total-files-size": "60642035",
          "total-position-deletes": "0",
          "total-records": "2684736"
         },
         "timestamp-ms": 1749199030989
        },
        {
         "manifest-list": "s3://warehouse/housing/staging/metadata/snap-376089619872553315-0-33d6af97-2386-45c9-9d71-a44ac4e66441.avro",
         "schema-id": 0,
         "sequence-number": 1,
         "snapshot-id": 376089619872553340,
         "summary": {
          "added-data-files": "1",
          "added-files-size": "17211477",
          "added-records": "766641",
          "operation": "append",
          "total-data-files": "1",
          "total-delete-files": "0",
          "total-equality-deletes": "0",
          "total-files-size": "17211477",
          "total-position-deletes": "0",
          "total-records": "766641"
         },
         "timestamp-ms": 1749197883013
        },
        {
         "manifest-list": "s3://warehouse/housing/staging/metadata/snap-1990484925050034825-0-7f71c78a-7820-42b0-89f7-595698c57d10.avro",
         "parent-snapshot-id": 376089619872553340,
         "schema-id": 0,
         "sequence-number": 2,
         "snapshot-id": 1990484925050035000,
         "summary": {
          "added-data-files": "1",
          "added-files-size": "19164098",
          "added-records": "848435",
          "operation": "append",
          "total-data-files": "2",
          "total-delete-files": "0",
          "total-equality-deletes": "0",
          "total-files-size": "36375575",
          "total-position-deletes": "0",
          "total-records": "1615076"
         },
         "timestamp-ms": 1749198312837
        }
       ],
       "sort-orders": [
        {
         "fields": [],
         "order-id": 0
        }
       ],
       "table-uuid": "0197444f-b9c7-73c2-bf20-370708f96d1c"
      },
      "text/plain": [
       "<IPython.core.display.JSON object>"
      ]
     },
     "execution_count": 13,
     "metadata": {
      "application/json": {
       "expanded": false,
       "root": "root"
      }
     },
     "output_type": "execute_result"
    }
   ],
   "source": [
    "JSON(get_iceberg_metadata(fs, house_prices_t))"
   ]
  },
  {
   "cell_type": "markdown",
   "id": "qnkX",
   "metadata": {},
   "source": [
    "## Deletes\n",
    "\n",
    "We have a new operation `overwrite` - Parquet is immutable, so we have to physically write out a new file and delete the old one. That is expensive, so Iceberg uses delete files to avoid having to up-front do the work of actually deleting data.\n",
    "\n",
    "```{note} Aside\n",
    "Technically, Parquet **row groups** are immutable, but it's much faster to treat the Parquet file as immutable, rather than rewriting row groups\n",
    "```\n",
    "\n",
    "The Iceberg V2 spec defines positional-deletes and equality-deletes. These are both represented by a `delete` file, which is just a parquet file which specifies rows to mark as deleted, either by a filter like `transaction_id = '{045A1898-4ABF-9A24-E063-4804A8C048EA}'` or by position, like this:\n",
    "```{code} parquet\n",
    ":filename: some_random_id.parquet\n",
    "file_path,pos\n",
    "s3://warehouse/house_prices/raw/data/00000-0-0ab09c23-d71c-4686-968a-f5ebd7b2e32a.parquet,0\n",
    "s3://warehouse/house_prices/raw/data/00000-0-0ab09c23-d71c-4686-968a-f5ebd7b2e32a.parquet,1\n",
    "s3://warehouse/house_prices/raw/data/00000-0-0ab09c23-d71c-4686-968a-f5ebd7b2e32a.parquet,2\n",
    "s3://warehouse/house_prices/raw/data/00000-0-0ab09c23-d71c-4686-968a-f5ebd7b2e32a.parquet,3\n",
    "```\n",
    "\n",
    "```{warning} Deprecation Warning\n",
    "Positional deletes will be replaced by deletion vectors in Iceberg V3\n",
    "```"
   ]
  },
  {
   "cell_type": "markdown",
   "id": "cea148b7-02a9-482d-806c-bccd3e5ee580",
   "metadata": {},
   "source": [
    "Let's use pyiceberg to find a delete file and open it up"
   ]
  },
  {
   "cell_type": "code",
   "execution_count": 14,
   "id": "02dde4ab-043e-482e-b3b5-8dbdfaed993f",
   "metadata": {},
   "outputs": [
    {
     "data": {
      "text/html": [
       "<div><style>\n",
       ".dataframe > thead > tr,\n",
       ".dataframe > tbody > tr {\n",
       "  text-align: right;\n",
       "  white-space: pre-wrap;\n",
       "}\n",
       "</style>\n",
       "<small>shape: (848_435, 2)</small><table border=\"1\" class=\"dataframe\"><thead><tr><th>file_path</th><th>pos</th></tr><tr><td>str</td><td>i64</td></tr></thead><tbody><tr><td>&quot;s3://warehouse/housing/staging/data/00000-0-7f71c78a-7820-42b0-89f7-595698c57d10.parquet&quot;</td><td>0</td></tr><tr><td>&quot;s3://warehouse/housing/staging/data/00000-0-7f71c78a-7820-42b0-89f7-595698c57d10.parquet&quot;</td><td>1</td></tr><tr><td>&quot;s3://warehouse/housing/staging/data/00000-0-7f71c78a-7820-42b0-89f7-595698c57d10.parquet&quot;</td><td>2</td></tr><tr><td>&quot;s3://warehouse/housing/staging/data/00000-0-7f71c78a-7820-42b0-89f7-595698c57d10.parquet&quot;</td><td>3</td></tr><tr><td>&quot;s3://warehouse/housing/staging/data/00000-0-7f71c78a-7820-42b0-89f7-595698c57d10.parquet&quot;</td><td>4</td></tr><tr><td>&hellip;</td><td>&hellip;</td></tr><tr><td>&quot;s3://warehouse/housing/staging/data/00000-0-7f71c78a-7820-42b0-89f7-595698c57d10.parquet&quot;</td><td>848430</td></tr><tr><td>&quot;s3://warehouse/housing/staging/data/00000-0-7f71c78a-7820-42b0-89f7-595698c57d10.parquet&quot;</td><td>848431</td></tr><tr><td>&quot;s3://warehouse/housing/staging/data/00000-0-7f71c78a-7820-42b0-89f7-595698c57d10.parquet&quot;</td><td>848432</td></tr><tr><td>&quot;s3://warehouse/housing/staging/data/00000-0-7f71c78a-7820-42b0-89f7-595698c57d10.parquet&quot;</td><td>848433</td></tr><tr><td>&quot;s3://warehouse/housing/staging/data/00000-0-7f71c78a-7820-42b0-89f7-595698c57d10.parquet&quot;</td><td>848434</td></tr></tbody></table></div>"
      ],
      "text/plain": [
       "shape: (848_435, 2)\n",
       "┌─────────────────────────────────────────────────────────────────────────────────────────┬────────┐\n",
       "│ file_path                                                                               ┆ pos    │\n",
       "│ ---                                                                                     ┆ ---    │\n",
       "│ str                                                                                     ┆ i64    │\n",
       "╞═════════════════════════════════════════════════════════════════════════════════════════╪════════╡\n",
       "│ s3://warehouse/housing/staging/data/00000-0-7f71c78a-7820-42b0-89f7-595698c57d10.parque ┆ 0      │\n",
       "│ t                                                                                       ┆        │\n",
       "│ s3://warehouse/housing/staging/data/00000-0-7f71c78a-7820-42b0-89f7-595698c57d10.parque ┆ 1      │\n",
       "│ t                                                                                       ┆        │\n",
       "│ s3://warehouse/housing/staging/data/00000-0-7f71c78a-7820-42b0-89f7-595698c57d10.parque ┆ 2      │\n",
       "│ t                                                                                       ┆        │\n",
       "│ s3://warehouse/housing/staging/data/00000-0-7f71c78a-7820-42b0-89f7-595698c57d10.parque ┆ 3      │\n",
       "│ t                                                                                       ┆        │\n",
       "│ s3://warehouse/housing/staging/data/00000-0-7f71c78a-7820-42b0-89f7-595698c57d10.parque ┆ 4      │\n",
       "│ t                                                                                       ┆        │\n",
       "│ …                                                                                       ┆ …      │\n",
       "│ s3://warehouse/housing/staging/data/00000-0-7f71c78a-7820-42b0-89f7-595698c57d10.parque ┆ 848430 │\n",
       "│ t                                                                                       ┆        │\n",
       "│ s3://warehouse/housing/staging/data/00000-0-7f71c78a-7820-42b0-89f7-595698c57d10.parque ┆ 848431 │\n",
       "│ t                                                                                       ┆        │\n",
       "│ s3://warehouse/housing/staging/data/00000-0-7f71c78a-7820-42b0-89f7-595698c57d10.parque ┆ 848432 │\n",
       "│ t                                                                                       ┆        │\n",
       "│ s3://warehouse/housing/staging/data/00000-0-7f71c78a-7820-42b0-89f7-595698c57d10.parque ┆ 848433 │\n",
       "│ t                                                                                       ┆        │\n",
       "│ s3://warehouse/housing/staging/data/00000-0-7f71c78a-7820-42b0-89f7-595698c57d10.parque ┆ 848434 │\n",
       "│ t                                                                                       ┆        │\n",
       "└─────────────────────────────────────────────────────────────────────────────────────────┴────────┘"
      ]
     },
     "metadata": {},
     "output_type": "display_data"
    }
   ],
   "source": [
    "delete_file = (\n",
    "    pl.from_arrow(house_prices_t.inspect.delete_files())\n",
    "    .select(pl.col(\"file_path\"))\n",
    "    .item(0, 0)\n",
    ")\n",
    "with pl.Config(fmt_str_lengths=100):\n",
    "    display(pl.read_parquet(fs.read_bytes(delete_file)))"
   ]
  },
  {
   "cell_type": "markdown",
   "id": "5116c42a-ddaa-4800-a8b3-8fb69f3d4711",
   "metadata": {},
   "source": [
    "# Renaming and moving columns\n",
    "\n",
    "Iceberg implements all column references use the `field_id`. This makes it trivial to rename a column, since we just have to update the metadata of the schema. Imagine our style guide is updated and now all metadata fields such as our `_loaded_at` should now be prefixed with `dwh` to make it clear who did the load. Now that we have some hands-on user feedback, we also want to move `transfer_date` to be the first column since we're often visually exploring date ranges.\n",
    "\n",
    "We can also show off transactions - everything we've done until now has actually been done inside a transaction. We can explicitly open a transaction to perform multiple operations inside a single transaction. This includes deleting and adding files, but for now we'll just make our changes\n",
    "\n"
   ]
  },
  {
   "cell_type": "code",
   "execution_count": 15,
   "id": "fa8b6bec-2d12-4b62-b9c8-207552e6d6c6",
   "metadata": {},
   "outputs": [],
   "source": [
    "with house_prices_t.transaction() as transaction:\n",
    "    with transaction.update_schema() as update:\n",
    "        update.rename_column(\"_loaded_at\", \"_dwh_loaded_at\")\n",
    "        update.move_first(\"date_of_transfer\")"
   ]
  },
  {
   "cell_type": "code",
   "execution_count": 16,
   "id": "42656e93-c6e3-4fb4-936b-d1d3d5113d85",
   "metadata": {},
   "outputs": [
    {
     "data": {
      "text/html": [
       "<div><style>\n",
       ".dataframe > thead > tr,\n",
       ".dataframe > tbody > tr {\n",
       "  text-align: right;\n",
       "  white-space: pre-wrap;\n",
       "}\n",
       "</style>\n",
       "<small>shape: (5, 17)</small><table border=\"1\" class=\"dataframe\"><thead><tr><th>date_of_transfer</th><th>transaction_id</th><th>price</th><th>postcode</th><th>property_type</th><th>new_property</th><th>duration</th><th>paon</th><th>saon</th><th>street</th><th>locality</th><th>town</th><th>district</th><th>county</th><th>ppd_category_type</th><th>record_status</th><th>_dwh_loaded_at</th></tr><tr><td>date</td><td>str</td><td>i32</td><td>str</td><td>str</td><td>str</td><td>str</td><td>str</td><td>str</td><td>str</td><td>str</td><td>str</td><td>str</td><td>str</td><td>str</td><td>str</td><td>datetime[μs, UTC]</td></tr></thead><tbody><tr><td>2023-09-22</td><td>&quot;{0E082196-CE18-5C09-E063-4704A…</td><td>221000</td><td>&quot;PL6 6JX&quot;</td><td>&quot;T&quot;</td><td>&quot;N&quot;</td><td>&quot;F&quot;</td><td>&quot;3&quot;</td><td>&quot;&quot;</td><td>&quot;PILLAR WALK&quot;</td><td>&quot;&quot;</td><td>&quot;PLYMOUTH&quot;</td><td>&quot;CITY OF PLYMOUTH&quot;</td><td>&quot;CITY OF PLYMOUTH&quot;</td><td>&quot;A&quot;</td><td>&quot;A&quot;</td><td>2025-06-06 08:35:08.585 UTC</td></tr><tr><td>2023-08-25</td><td>&quot;{0E082196-CE19-5C09-E063-4704A…</td><td>228000</td><td>&quot;PL7 1SJ&quot;</td><td>&quot;S&quot;</td><td>&quot;N&quot;</td><td>&quot;F&quot;</td><td>&quot;102&quot;</td><td>&quot;&quot;</td><td>&quot;MERAFIELD ROAD&quot;</td><td>&quot;&quot;</td><td>&quot;PLYMOUTH&quot;</td><td>&quot;CITY OF PLYMOUTH&quot;</td><td>&quot;CITY OF PLYMOUTH&quot;</td><td>&quot;A&quot;</td><td>&quot;A&quot;</td><td>2025-06-06 08:35:08.585 UTC</td></tr><tr><td>2023-10-26</td><td>&quot;{0E082196-CE1A-5C09-E063-4704A…</td><td>480000</td><td>&quot;TQ6 0AS&quot;</td><td>&quot;F&quot;</td><td>&quot;N&quot;</td><td>&quot;L&quot;</td><td>&quot;1A&quot;</td><td>&quot;&quot;</td><td>&quot;RIVER VIEW&quot;</td><td>&quot;KINGSWEAR&quot;</td><td>&quot;DARTMOUTH&quot;</td><td>&quot;SOUTH HAMS&quot;</td><td>&quot;DEVON&quot;</td><td>&quot;A&quot;</td><td>&quot;A&quot;</td><td>2025-06-06 08:35:08.585 UTC</td></tr><tr><td>2023-07-14</td><td>&quot;{0E082196-CE1B-5C09-E063-4704A…</td><td>625000</td><td>&quot;TQ1 2HB&quot;</td><td>&quot;D&quot;</td><td>&quot;N&quot;</td><td>&quot;F&quot;</td><td>&quot;14&quot;</td><td>&quot;&quot;</td><td>&quot;OXLEA CLOSE&quot;</td><td>&quot;&quot;</td><td>&quot;TORQUAY&quot;</td><td>&quot;TORBAY&quot;</td><td>&quot;TORBAY&quot;</td><td>&quot;A&quot;</td><td>&quot;A&quot;</td><td>2025-06-06 08:35:08.585 UTC</td></tr><tr><td>2023-08-04</td><td>&quot;{0E082196-CE1C-5C09-E063-4704A…</td><td>174000</td><td>&quot;PL2 1LL&quot;</td><td>&quot;T&quot;</td><td>&quot;N&quot;</td><td>&quot;F&quot;</td><td>&quot;58&quot;</td><td>&quot;&quot;</td><td>&quot;ST AUBYN AVENUE&quot;</td><td>&quot;&quot;</td><td>&quot;PLYMOUTH&quot;</td><td>&quot;CITY OF PLYMOUTH&quot;</td><td>&quot;CITY OF PLYMOUTH&quot;</td><td>&quot;A&quot;</td><td>&quot;A&quot;</td><td>2025-06-06 08:35:08.585 UTC</td></tr></tbody></table></div>"
      ],
      "text/plain": [
       "shape: (5, 17)\n",
       "┌────────────┬────────────┬────────┬──────────┬───┬────────────┬───────────┬───────────┬───────────┐\n",
       "│ date_of_tr ┆ transactio ┆ price  ┆ postcode ┆ … ┆ county     ┆ ppd_categ ┆ record_st ┆ _dwh_load │\n",
       "│ ansfer     ┆ n_id       ┆ ---    ┆ ---      ┆   ┆ ---        ┆ ory_type  ┆ atus      ┆ ed_at     │\n",
       "│ ---        ┆ ---        ┆ i32    ┆ str      ┆   ┆ str        ┆ ---       ┆ ---       ┆ ---       │\n",
       "│ date       ┆ str        ┆        ┆          ┆   ┆            ┆ str       ┆ str       ┆ datetime[ │\n",
       "│            ┆            ┆        ┆          ┆   ┆            ┆           ┆           ┆ μs, UTC]  │\n",
       "╞════════════╪════════════╪════════╪══════════╪═══╪════════════╪═══════════╪═══════════╪═══════════╡\n",
       "│ 2023-09-22 ┆ {0E082196- ┆ 221000 ┆ PL6 6JX  ┆ … ┆ CITY OF    ┆ A         ┆ A         ┆ 2025-06-0 │\n",
       "│            ┆ CE18-5C09- ┆        ┆          ┆   ┆ PLYMOUTH   ┆           ┆           ┆ 6 08:35:0 │\n",
       "│            ┆ E063-4704A ┆        ┆          ┆   ┆            ┆           ┆           ┆ 8.585 UTC │\n",
       "│            ┆ …          ┆        ┆          ┆   ┆            ┆           ┆           ┆           │\n",
       "│ 2023-08-25 ┆ {0E082196- ┆ 228000 ┆ PL7 1SJ  ┆ … ┆ CITY OF    ┆ A         ┆ A         ┆ 2025-06-0 │\n",
       "│            ┆ CE19-5C09- ┆        ┆          ┆   ┆ PLYMOUTH   ┆           ┆           ┆ 6 08:35:0 │\n",
       "│            ┆ E063-4704A ┆        ┆          ┆   ┆            ┆           ┆           ┆ 8.585 UTC │\n",
       "│            ┆ …          ┆        ┆          ┆   ┆            ┆           ┆           ┆           │\n",
       "│ 2023-10-26 ┆ {0E082196- ┆ 480000 ┆ TQ6 0AS  ┆ … ┆ DEVON      ┆ A         ┆ A         ┆ 2025-06-0 │\n",
       "│            ┆ CE1A-5C09- ┆        ┆          ┆   ┆            ┆           ┆           ┆ 6 08:35:0 │\n",
       "│            ┆ E063-4704A ┆        ┆          ┆   ┆            ┆           ┆           ┆ 8.585 UTC │\n",
       "│            ┆ …          ┆        ┆          ┆   ┆            ┆           ┆           ┆           │\n",
       "│ 2023-07-14 ┆ {0E082196- ┆ 625000 ┆ TQ1 2HB  ┆ … ┆ TORBAY     ┆ A         ┆ A         ┆ 2025-06-0 │\n",
       "│            ┆ CE1B-5C09- ┆        ┆          ┆   ┆            ┆           ┆           ┆ 6 08:35:0 │\n",
       "│            ┆ E063-4704A ┆        ┆          ┆   ┆            ┆           ┆           ┆ 8.585 UTC │\n",
       "│            ┆ …          ┆        ┆          ┆   ┆            ┆           ┆           ┆           │\n",
       "│ 2023-08-04 ┆ {0E082196- ┆ 174000 ┆ PL2 1LL  ┆ … ┆ CITY OF    ┆ A         ┆ A         ┆ 2025-06-0 │\n",
       "│            ┆ CE1C-5C09- ┆        ┆          ┆   ┆ PLYMOUTH   ┆           ┆           ┆ 6 08:35:0 │\n",
       "│            ┆ E063-4704A ┆        ┆          ┆   ┆            ┆           ┆           ┆ 8.585 UTC │\n",
       "│            ┆ …          ┆        ┆          ┆   ┆            ┆           ┆           ┆           │\n",
       "└────────────┴────────────┴────────┴──────────┴───┴────────────┴───────────┴───────────┴───────────┘"
      ]
     },
     "execution_count": 16,
     "metadata": {},
     "output_type": "execute_result"
    }
   ],
   "source": [
    "pl.scan_iceberg(house_prices_t).head().collect()"
   ]
  },
  {
   "cell_type": "code",
   "execution_count": 17,
   "id": "3ac713db-ef2f-4dee-a057-cf600d305e45",
   "metadata": {},
   "outputs": [
    {
     "data": {
      "application/json": {
       "current-schema-id": 2,
       "current-snapshot-id": 5843758373603936000,
       "default-sort-order-id": 0,
       "default-spec-id": 0,
       "format-version": 2,
       "last-column-id": 17,
       "last-partition-id": 999,
       "last-sequence-number": 4,
       "last-updated-ms": 1749199263897,
       "location": "s3://warehouse/housing/staging",
       "metadata-log": [
        {
         "metadata-file": "s3://warehouse/housing/staging/metadata/00000-0197444f-b9ca-7c20-9d1f-bbe4c4e97802.gz.metadata.json",
         "timestamp-ms": 1749197765067
        },
        {
         "metadata-file": "s3://warehouse/housing/staging/metadata/00001-01974451-86ac-70e0-96b4-a31da2a2eae5.gz.metadata.json",
         "timestamp-ms": 1749197883013
        },
        {
         "metadata-file": "s3://warehouse/housing/staging/metadata/00002-01974458-15a3-7b03-b2a2-8c90075f8adc.gz.metadata.json",
         "timestamp-ms": 1749198312837
        },
        {
         "metadata-file": "s3://warehouse/housing/staging/metadata/00003-01974462-2f5c-7583-9f34-c01e4721a9cb.gz.metadata.json",
         "timestamp-ms": 1749198974812
        },
        {
         "metadata-file": "s3://warehouse/housing/staging/metadata/00004-01974463-0ad7-76b3-bfb8-ed4762806136.gz.metadata.json",
         "timestamp-ms": 1749199030989
        },
        {
         "metadata-file": "s3://warehouse/housing/staging/metadata/00005-01974464-24a5-7563-ad64-93d66c7844ab.gz.metadata.json",
         "timestamp-ms": 1749199103088
        }
       ],
       "partition-specs": [
        {
         "fields": [],
         "spec-id": 0
        }
       ],
       "refs": {
        "main": {
         "snapshot-id": 5843758373603936000,
         "type": "branch"
        }
       },
       "schemas": [
        {
         "fields": [
          {
           "doc": "A reference number which is generated automatically recording each published sale. The number is unique and will change each time a sale is recorded.",
           "id": 1,
           "name": "transaction_id",
           "required": true,
           "type": "string"
          },
          {
           "doc": "Sale price stated on the transfer deed.",
           "id": 2,
           "name": "price",
           "required": true,
           "type": "int"
          },
          {
           "doc": "Date when the sale was completed, as stated on the transfer deed.",
           "id": 3,
           "name": "date_of_transfer",
           "required": true,
           "type": "date"
          },
          {
           "doc": "This is the postcode used at the time of the original transaction. Note that postcodes can be reallocated and these changes are not reflected in the Price Paid Dataset.",
           "id": 4,
           "name": "postcode",
           "required": true,
           "type": "string"
          },
          {
           "doc": "D = Detached, S = Semi-Detached, T = Terraced, F = Flats/Maisonettes, O = Other",
           "id": 5,
           "name": "property_type",
           "required": true,
           "type": "string"
          },
          {
           "doc": "Indicates the age of the property and applies to all price paid transactions, residential and non-residential. Y = a newly built property, N = an established residential building",
           "id": 6,
           "name": "new_property",
           "required": true,
           "type": "string"
          },
          {
           "doc": "Relates to the tenure: F = Freehold, L= Leasehold etc. Note that HM Land Registry does not record leases of 7 years or less in the Price Paid Dataset.",
           "id": 7,
           "name": "duration",
           "required": true,
           "type": "string"
          },
          {
           "doc": "Primary Addressable Object Name. Typically the house number or name",
           "id": 8,
           "name": "paon",
           "required": false,
           "type": "string"
          },
          {
           "doc": "Secondary Addressable Object Name. Where a property has been divided into separate units (for example, flats), the PAON (above) will identify the building and a SAON will be specified that identifies the separate unit/flat.",
           "id": 9,
           "name": "saon",
           "required": false,
           "type": "string"
          },
          {
           "id": 10,
           "name": "street",
           "required": false,
           "type": "string"
          },
          {
           "id": 11,
           "name": "locality",
           "required": false,
           "type": "string"
          },
          {
           "id": 12,
           "name": "town",
           "required": false,
           "type": "string"
          },
          {
           "id": 13,
           "name": "district",
           "required": false,
           "type": "string"
          },
          {
           "id": 14,
           "name": "county",
           "required": false,
           "type": "string"
          },
          {
           "doc": "Indicates the type of Price Paid transaction. A = Standard Price Paid entry, includes single residential property sold for value. B = Additional Price Paid entry including transfers under a power of sale/repossessions, buy-to-lets (where they can be identified by a Mortgage), transfers to non-private individuals and sales where the property type is classed as ‘Other’.",
           "id": 15,
           "name": "ppd_category_type",
           "required": false,
           "type": "string"
          },
          {
           "doc": "Indicates additions, changes and deletions to the records. A = Addition C = Change D = Delete",
           "id": 16,
           "name": "record_status",
           "required": false,
           "type": "string"
          },
          {
           "doc": "The date this row was loaded",
           "id": 17,
           "name": "_loaded_at",
           "required": false,
           "type": "timestamptz"
          }
         ],
         "identifier-field-ids": [
          1
         ],
         "schema-id": 1,
         "type": "struct"
        },
        {
         "fields": [
          {
           "doc": "A reference number which is generated automatically recording each published sale. The number is unique and will change each time a sale is recorded.",
           "id": 1,
           "name": "transaction_id",
           "required": true,
           "type": "string"
          },
          {
           "doc": "Sale price stated on the transfer deed.",
           "id": 2,
           "name": "price",
           "required": true,
           "type": "int"
          },
          {
           "doc": "Date when the sale was completed, as stated on the transfer deed.",
           "id": 3,
           "name": "date_of_transfer",
           "required": true,
           "type": "date"
          },
          {
           "doc": "This is the postcode used at the time of the original transaction. Note that postcodes can be reallocated and these changes are not reflected in the Price Paid Dataset.",
           "id": 4,
           "name": "postcode",
           "required": true,
           "type": "string"
          },
          {
           "doc": "D = Detached, S = Semi-Detached, T = Terraced, F = Flats/Maisonettes, O = Other",
           "id": 5,
           "name": "property_type",
           "required": true,
           "type": "string"
          },
          {
           "doc": "Indicates the age of the property and applies to all price paid transactions, residential and non-residential. Y = a newly built property, N = an established residential building",
           "id": 6,
           "name": "new_property",
           "required": true,
           "type": "string"
          },
          {
           "doc": "Relates to the tenure: F = Freehold, L= Leasehold etc. Note that HM Land Registry does not record leases of 7 years or less in the Price Paid Dataset.",
           "id": 7,
           "name": "duration",
           "required": true,
           "type": "string"
          },
          {
           "doc": "Primary Addressable Object Name. Typically the house number or name",
           "id": 8,
           "name": "paon",
           "required": false,
           "type": "string"
          },
          {
           "doc": "Secondary Addressable Object Name. Where a property has been divided into separate units (for example, flats), the PAON (above) will identify the building and a SAON will be specified that identifies the separate unit/flat.",
           "id": 9,
           "name": "saon",
           "required": false,
           "type": "string"
          },
          {
           "id": 10,
           "name": "street",
           "required": false,
           "type": "string"
          },
          {
           "id": 11,
           "name": "locality",
           "required": false,
           "type": "string"
          },
          {
           "id": 12,
           "name": "town",
           "required": false,
           "type": "string"
          },
          {
           "id": 13,
           "name": "district",
           "required": false,
           "type": "string"
          },
          {
           "id": 14,
           "name": "county",
           "required": false,
           "type": "string"
          },
          {
           "doc": "Indicates the type of Price Paid transaction. A = Standard Price Paid entry, includes single residential property sold for value. B = Additional Price Paid entry including transfers under a power of sale/repossessions, buy-to-lets (where they can be identified by a Mortgage), transfers to non-private individuals and sales where the property type is classed as ‘Other’.",
           "id": 15,
           "name": "ppd_category_type",
           "required": false,
           "type": "string"
          },
          {
           "doc": "Indicates additions, changes and deletions to the records. A = Addition C = Change D = Delete",
           "id": 16,
           "name": "record_status",
           "required": false,
           "type": "string"
          }
         ],
         "identifier-field-ids": [
          1
         ],
         "schema-id": 0,
         "type": "struct"
        },
        {
         "fields": [
          {
           "doc": "Date when the sale was completed, as stated on the transfer deed.",
           "id": 3,
           "name": "date_of_transfer",
           "required": true,
           "type": "date"
          },
          {
           "doc": "A reference number which is generated automatically recording each published sale. The number is unique and will change each time a sale is recorded.",
           "id": 1,
           "name": "transaction_id",
           "required": true,
           "type": "string"
          },
          {
           "doc": "Sale price stated on the transfer deed.",
           "id": 2,
           "name": "price",
           "required": true,
           "type": "int"
          },
          {
           "doc": "This is the postcode used at the time of the original transaction. Note that postcodes can be reallocated and these changes are not reflected in the Price Paid Dataset.",
           "id": 4,
           "name": "postcode",
           "required": true,
           "type": "string"
          },
          {
           "doc": "D = Detached, S = Semi-Detached, T = Terraced, F = Flats/Maisonettes, O = Other",
           "id": 5,
           "name": "property_type",
           "required": true,
           "type": "string"
          },
          {
           "doc": "Indicates the age of the property and applies to all price paid transactions, residential and non-residential. Y = a newly built property, N = an established residential building",
           "id": 6,
           "name": "new_property",
           "required": true,
           "type": "string"
          },
          {
           "doc": "Relates to the tenure: F = Freehold, L= Leasehold etc. Note that HM Land Registry does not record leases of 7 years or less in the Price Paid Dataset.",
           "id": 7,
           "name": "duration",
           "required": true,
           "type": "string"
          },
          {
           "doc": "Primary Addressable Object Name. Typically the house number or name",
           "id": 8,
           "name": "paon",
           "required": false,
           "type": "string"
          },
          {
           "doc": "Secondary Addressable Object Name. Where a property has been divided into separate units (for example, flats), the PAON (above) will identify the building and a SAON will be specified that identifies the separate unit/flat.",
           "id": 9,
           "name": "saon",
           "required": false,
           "type": "string"
          },
          {
           "id": 10,
           "name": "street",
           "required": false,
           "type": "string"
          },
          {
           "id": 11,
           "name": "locality",
           "required": false,
           "type": "string"
          },
          {
           "id": 12,
           "name": "town",
           "required": false,
           "type": "string"
          },
          {
           "id": 13,
           "name": "district",
           "required": false,
           "type": "string"
          },
          {
           "id": 14,
           "name": "county",
           "required": false,
           "type": "string"
          },
          {
           "doc": "Indicates the type of Price Paid transaction. A = Standard Price Paid entry, includes single residential property sold for value. B = Additional Price Paid entry including transfers under a power of sale/repossessions, buy-to-lets (where they can be identified by a Mortgage), transfers to non-private individuals and sales where the property type is classed as ‘Other’.",
           "id": 15,
           "name": "ppd_category_type",
           "required": false,
           "type": "string"
          },
          {
           "doc": "Indicates additions, changes and deletions to the records. A = Addition C = Change D = Delete",
           "id": 16,
           "name": "record_status",
           "required": false,
           "type": "string"
          },
          {
           "doc": "The date this row was loaded",
           "id": 17,
           "name": "_dwh_loaded_at",
           "required": false,
           "type": "timestamptz"
          }
         ],
         "identifier-field-ids": [
          1
         ],
         "schema-id": 2,
         "type": "struct"
        }
       ],
       "snapshot-log": [
        {
         "snapshot-id": 376089619872553340,
         "timestamp-ms": 1749197883013
        },
        {
         "snapshot-id": 1990484925050035000,
         "timestamp-ms": 1749198312837
        },
        {
         "snapshot-id": 1063926452435308800,
         "timestamp-ms": 1749199030989
        },
        {
         "snapshot-id": 5843758373603936000,
         "timestamp-ms": 1749199103088
        }
       ],
       "snapshots": [
        {
         "manifest-list": "s3://warehouse/housing/staging/metadata/snap-1990484925050034825-0-7f71c78a-7820-42b0-89f7-595698c57d10.avro",
         "parent-snapshot-id": 376089619872553340,
         "schema-id": 0,
         "sequence-number": 2,
         "snapshot-id": 1990484925050035000,
         "summary": {
          "added-data-files": "1",
          "added-files-size": "19164098",
          "added-records": "848435",
          "operation": "append",
          "total-data-files": "2",
          "total-delete-files": "0",
          "total-equality-deletes": "0",
          "total-files-size": "36375575",
          "total-position-deletes": "0",
          "total-records": "1615076"
         },
         "timestamp-ms": 1749198312837
        },
        {
         "manifest-list": "s3://warehouse/housing/staging/metadata/snap-1063926452435308816-0-baa7c48c-399e-4724-8ea7-1abcb7a347fe.avro",
         "parent-snapshot-id": 1990484925050035000,
         "schema-id": 1,
         "sequence-number": 3,
         "snapshot-id": 1063926452435308800,
         "summary": {
          "added-data-files": "1",
          "added-files-size": "24266460",
          "added-records": "1069660",
          "operation": "append",
          "total-data-files": "3",
          "total-delete-files": "0",
          "total-equality-deletes": "0",
          "total-files-size": "60642035",
          "total-position-deletes": "0",
          "total-records": "2684736"
         },
         "timestamp-ms": 1749199030989
        },
        {
         "manifest-list": "s3://warehouse/housing/staging/metadata/snap-5843758373603936520-1-8ff36658-ebd8-476b-b69a-94fd7b5b07b1.avro",
         "parent-snapshot-id": 1063926452435308800,
         "schema-id": 1,
         "sequence-number": 4,
         "snapshot-id": 5843758373603936000,
         "summary": {
          "added-data-files": "1",
          "added-delete-files": "2",
          "added-files-size": "37048343",
          "added-position-delete-files": "2",
          "added-position-deletes": "1615076",
          "added-records": "1615076",
          "changed-partition-count": "1",
          "engine-name": "trino",
          "engine-version": "475",
          "iceberg-version": "Apache Iceberg 1.8.1 (commit 9ce0fcf0af7becf25ad9fc996c3bad2afdcfd33d)",
          "operation": "overwrite",
          "total-data-files": "4",
          "total-delete-files": "2",
          "total-equality-deletes": "0",
          "total-files-size": "97690378",
          "total-position-deletes": "1615076",
          "total-records": "4299812",
          "trino_query_id": "20250606_083814_00002_syd2g",
          "trino_user": "trino"
         },
         "timestamp-ms": 1749199103088
        },
        {
         "manifest-list": "s3://warehouse/housing/staging/metadata/snap-376089619872553315-0-33d6af97-2386-45c9-9d71-a44ac4e66441.avro",
         "schema-id": 0,
         "sequence-number": 1,
         "snapshot-id": 376089619872553340,
         "summary": {
          "added-data-files": "1",
          "added-files-size": "17211477",
          "added-records": "766641",
          "operation": "append",
          "total-data-files": "1",
          "total-delete-files": "0",
          "total-equality-deletes": "0",
          "total-files-size": "17211477",
          "total-position-deletes": "0",
          "total-records": "766641"
         },
         "timestamp-ms": 1749197883013
        }
       ],
       "sort-orders": [
        {
         "fields": [],
         "order-id": 0
        }
       ],
       "table-uuid": "0197444f-b9c7-73c2-bf20-370708f96d1c"
      },
      "text/plain": [
       "<IPython.core.display.JSON object>"
      ]
     },
     "execution_count": 17,
     "metadata": {
      "application/json": {
       "expanded": false,
       "root": "root"
      }
     },
     "output_type": "execute_result"
    }
   ],
   "source": [
    "JSON(get_iceberg_metadata(fs, house_prices_t))"
   ]
  }
 ],
 "metadata": {
  "kernelspec": {
   "display_name": "Python 3 (ipykernel)",
   "language": "python",
   "name": "python3"
  },
  "language_info": {
   "codemirror_mode": {
    "name": "ipython",
    "version": 3
   },
   "file_extension": ".py",
   "mimetype": "text/x-python",
   "name": "python",
   "nbconvert_exporter": "python",
   "pygments_lexer": "ipython3",
   "version": "3.12.11"
  }
 },
 "nbformat": 4,
 "nbformat_minor": 5
}
