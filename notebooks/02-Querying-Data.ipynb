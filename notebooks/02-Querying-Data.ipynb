{
 "cells": [
  {
   "cell_type": "code",
   "execution_count": 1,
   "id": "initial_id",
   "metadata": {
    "ExecuteTime": {
     "end_time": "2025-05-05T19:30:23.494582Z",
     "start_time": "2025-05-05T19:30:22.888024Z"
    }
   },
   "outputs": [
    {
     "data": {
      "text/plain": [
       "polars.config.Config"
      ]
     },
     "execution_count": 1,
     "metadata": {},
     "output_type": "execute_result"
    }
   ],
   "source": [
    "import polars as pl\n",
    "from pyiceberg.catalog.rest import RestCatalog\n",
    "\n",
    "pl.Config.set_thousands_separator(\",\")\n",
    "pl.Config.set_float_precision(2)"
   ]
  },
  {
   "cell_type": "markdown",
   "id": "e6215e98f6f6b97b",
   "metadata": {},
   "source": [
    "# Querying the data\n",
    "\n",
    "Now we have some data and we understand a bit better how Iceberg works under the hood. It's time to actually start using it!\n",
    "\n",
    "The key selling point for Iceberg is that we have the option of using many different query engines to read from the same data storage.\n",
    "To show this off, let's run some simple queries using a few different query engines. In this demo, we'll focus on locally runnable query engines, but often the pattern will be using something like Snowflake or Databricks for the heavy lifting, but have the optionality of using alternatives for different usecases.\n",
    "\n",
    "First, we get a reference to our table, since many of these engines are using pyiceberg as a jumping-off point, either to directly interface with the Pyiceberg table, or because we can use Pyiceberg to find out the location of the current metadata.json file"
   ]
  },
  {
   "cell_type": "code",
   "execution_count": 2,
   "id": "5ba185e0da0e69ef",
   "metadata": {
    "ExecuteTime": {
     "end_time": "2025-05-05T19:30:50.295260Z",
     "start_time": "2025-05-05T19:30:50.264663Z"
    }
   },
   "outputs": [],
   "source": [
    "catalog = RestCatalog(\n",
    "    \"lakekeeper\", uri=\"http://lakekeeper:8181/catalog\", warehouse=\"lakehouse\"\n",
    ")\n",
    "table = catalog.load_table(\"housing.staging_prices\")"
   ]
  },
  {
   "cell_type": "markdown",
   "id": "54b74f41-0c76-49dc-a3ff-294682854a30",
   "metadata": {},
   "source": [
    "## Pyiceberg\n",
    "\n",
    "Let's see how we would use Pyiceberg directly to handle querying first. For each of these examples, we'll do something simple - we will calculate the mean monthly house price per month in 2024 (we've loaded data for 2024 and 2023 in the previous notebook). "
   ]
  },
  {
   "cell_type": "code",
   "execution_count": 3,
   "id": "9347e445-a643-47e8-bf0e-b541d7a52c27",
   "metadata": {},
   "outputs": [
    {
     "name": "stdout",
     "output_type": "stream",
     "text": [
      "CPU times: user 86.6 ms, sys: 40 ms, total: 127 ms\n",
      "Wall time: 145 ms\n"
     ]
    },
    {
     "data": {
      "text/html": [
       "<div><style>\n",
       ".dataframe > thead > tr,\n",
       ".dataframe > tbody > tr {\n",
       "  text-align: right;\n",
       "  white-space: pre-wrap;\n",
       "}\n",
       "</style>\n",
       "<small>shape: (12, 2)</small><table border=\"1\" class=\"dataframe\"><thead><tr><th>date_of_transfer</th><th>price</th></tr><tr><td>i8</td><td>f64</td></tr></thead><tbody><tr><td>1</td><td>391,897.26</td></tr><tr><td>2</td><td>381,900.66</td></tr><tr><td>3</td><td>408,394.40</td></tr><tr><td>4</td><td>401,857.16</td></tr><tr><td>5</td><td>386,113.28</td></tr><tr><td>&hellip;</td><td>&hellip;</td></tr><tr><td>8</td><td>383,045.15</td></tr><tr><td>9</td><td>378,065.41</td></tr><tr><td>10</td><td>385,442.28</td></tr><tr><td>11</td><td>357,411.63</td></tr><tr><td>12</td><td>351,370.41</td></tr></tbody></table></div>"
      ],
      "text/plain": [
       "shape: (12, 2)\n",
       "┌──────────────────┬────────────┐\n",
       "│ date_of_transfer ┆ price      │\n",
       "│ ---              ┆ ---        │\n",
       "│ i8               ┆ f64        │\n",
       "╞══════════════════╪════════════╡\n",
       "│ 1                ┆ 391,897.26 │\n",
       "│ 2                ┆ 381,900.66 │\n",
       "│ 3                ┆ 408,394.40 │\n",
       "│ 4                ┆ 401,857.16 │\n",
       "│ 5                ┆ 386,113.28 │\n",
       "│ …                ┆ …          │\n",
       "│ 8                ┆ 383,045.15 │\n",
       "│ 9                ┆ 378,065.41 │\n",
       "│ 10               ┆ 385,442.28 │\n",
       "│ 11               ┆ 357,411.63 │\n",
       "│ 12               ┆ 351,370.41 │\n",
       "└──────────────────┴────────────┘"
      ]
     },
     "execution_count": 3,
     "metadata": {},
     "output_type": "execute_result"
    }
   ],
   "source": [
    "%%time\n",
    "\n",
    "iceberg_results = table.scan(\n",
    "    selected_fields=[\"price\", \"date_of_transfer\"],\n",
    "    row_filter=\"date_of_transfer >= '2024-01-01' and date_of_transfer <= '2024-12-31'\",\n",
    ")\n",
    "iceberg_results.to_polars().group_by(pl.col(\"date_of_transfer\").dt.month()).agg(\n",
    "    pl.col(\"price\").mean()\n",
    ").sort(by=\"date_of_transfer\")"
   ]
  },
  {
   "cell_type": "markdown",
   "id": "fc1fcc13-e470-4ab2-90a9-320c2b16808b",
   "metadata": {},
   "source": [
    "## Polars\n",
    "Pyiceberg provides us with limited filtering and projection capabilities - it provides the building blocks for libraries that build on top of Pyiceberg. We used Polars to finish the job in this example, but polars can read Iceberg directly so we can avoid the extra step"
   ]
  },
  {
   "cell_type": "code",
   "execution_count": 4,
   "id": "6ff5217c-d207-4f33-a018-5d105e465bb5",
   "metadata": {},
   "outputs": [
    {
     "name": "stdout",
     "output_type": "stream",
     "text": [
      "CPU times: user 111 ms, sys: 40 ms, total: 151 ms\n",
      "Wall time: 120 ms\n"
     ]
    },
    {
     "data": {
      "text/html": [
       "<div><style>\n",
       ".dataframe > thead > tr,\n",
       ".dataframe > tbody > tr {\n",
       "  text-align: right;\n",
       "  white-space: pre-wrap;\n",
       "}\n",
       "</style>\n",
       "<small>shape: (12, 2)</small><table border=\"1\" class=\"dataframe\"><thead><tr><th>date_of_transfer</th><th>price</th></tr><tr><td>i8</td><td>f64</td></tr></thead><tbody><tr><td>1</td><td>394,187.58</td></tr><tr><td>2</td><td>384,490.04</td></tr><tr><td>3</td><td>409,735.65</td></tr><tr><td>4</td><td>401,145.10</td></tr><tr><td>5</td><td>395,103.79</td></tr><tr><td>&hellip;</td><td>&hellip;</td></tr><tr><td>8</td><td>396,430.32</td></tr><tr><td>9</td><td>390,961.38</td></tr><tr><td>10</td><td>389,016.05</td></tr><tr><td>11</td><td>372,036.52</td></tr><tr><td>12</td><td>386,641.94</td></tr></tbody></table></div>"
      ],
      "text/plain": [
       "shape: (12, 2)\n",
       "┌──────────────────┬────────────┐\n",
       "│ date_of_transfer ┆ price      │\n",
       "│ ---              ┆ ---        │\n",
       "│ i8               ┆ f64        │\n",
       "╞══════════════════╪════════════╡\n",
       "│ 1                ┆ 394,187.58 │\n",
       "│ 2                ┆ 384,490.04 │\n",
       "│ 3                ┆ 409,735.65 │\n",
       "│ 4                ┆ 401,145.10 │\n",
       "│ 5                ┆ 395,103.79 │\n",
       "│ …                ┆ …          │\n",
       "│ 8                ┆ 396,430.32 │\n",
       "│ 9                ┆ 390,961.38 │\n",
       "│ 10               ┆ 389,016.05 │\n",
       "│ 11               ┆ 372,036.52 │\n",
       "│ 12               ┆ 386,641.94 │\n",
       "└──────────────────┴────────────┘"
      ]
     },
     "execution_count": 4,
     "metadata": {},
     "output_type": "execute_result"
    }
   ],
   "source": [
    "%%time\n",
    "polars_df = (\n",
    "    pl.scan_iceberg(table)\n",
    "    .group_by(pl.col(\"date_of_transfer\").dt.month())\n",
    "    .agg(pl.col(\"price\").mean())\n",
    "    .sort(by=\"date_of_transfer\")\n",
    "    .collect()\n",
    ")\n",
    "polars_df"
   ]
  },
  {
   "cell_type": "markdown",
   "id": "ab1d00b7-4379-473d-bc71-3651c921ffe4",
   "metadata": {},
   "source": [
    "## Duckdb\n",
    "Duckdb is also an excellent choice for working with Iceberg, especially if you want to stick to SQL.\n",
    "\n",
    "It does require some setup, since Duckdb doesn't yet know how to talk to the REST catalog, so it needs to have it's own credentials, but the [duckdb-iceberg](https://github.com/duckdb/duckdb-iceberg) extension recently got additional sponsorship from AWS to improve Iceberg compatibility, so keep an eye on that"
   ]
  },
  {
   "cell_type": "code",
   "execution_count": 5,
   "id": "ea17410d-c1ac-400a-a53e-df7146ed6777",
   "metadata": {},
   "outputs": [],
   "source": [
    "import duckdb"
   ]
  },
  {
   "cell_type": "code",
   "execution_count": 6,
   "id": "dba31952-7109-4383-82cf-58f6e0010fa9",
   "metadata": {},
   "outputs": [
    {
     "data": {
      "text/plain": [
       "┌─────────┐\n",
       "│ Success │\n",
       "│ boolean │\n",
       "├─────────┤\n",
       "│ true    │\n",
       "└─────────┘"
      ]
     },
     "execution_count": 6,
     "metadata": {},
     "output_type": "execute_result"
    }
   ],
   "source": [
    "# Create a duckdb connection\n",
    "conn = duckdb.connect()\n",
    "# Load the Iceberg extension for DuckDB\n",
    "conn.install_extension(\"iceberg\")\n",
    "conn.load_extension(\"iceberg\")\n",
    "\n",
    "\n",
    "# To be able to read the Iceberg metadata, we need credentials for the bucket\n",
    "conn.sql(\"\"\"\n",
    "CREATE OR REPLACE SECRET minio (\n",
    "TYPE S3,\n",
    "ENDPOINT 'minio:9000',\n",
    "KEY_ID 'minio',\n",
    "SECRET 'minio1234',\n",
    "USE_SSL false,\n",
    "URL_STYLE 'path'\n",
    ")\n",
    "\"\"\")"
   ]
  },
  {
   "cell_type": "code",
   "execution_count": 7,
   "id": "bce0a4db-bef1-4aa9-9678-34f22f791946",
   "metadata": {},
   "outputs": [
    {
     "name": "stdout",
     "output_type": "stream",
     "text": [
      "┌────────────────┬────────────────────┐\n",
      "│ transfer_month │     mean_price     │\n",
      "│     int64      │       double       │\n",
      "├────────────────┼────────────────────┤\n",
      "│              1 │  394187.5805044869 │\n",
      "│              2 │  384490.0360762256 │\n",
      "│              3 │   409735.652211523 │\n",
      "│              4 │  401145.1006167552 │\n",
      "│              5 │   395103.789231015 │\n",
      "│              6 │  402966.0933048433 │\n",
      "│              7 │  396257.9457214263 │\n",
      "│              8 │  396430.3194902848 │\n",
      "│              9 │  390961.3840281215 │\n",
      "│             10 │  389016.0510467688 │\n",
      "│             11 │  372036.5243903345 │\n",
      "│             12 │ 386641.94097710383 │\n",
      "├────────────────┴────────────────────┤\n",
      "│ 12 rows                   2 columns │\n",
      "└─────────────────────────────────────┘\n",
      "\n",
      "CPU times: user 237 ms, sys: 140 ms, total: 376 ms\n",
      "Wall time: 676 ms\n"
     ]
    }
   ],
   "source": [
    "%%time\n",
    "# We can read the iceberg data using DuckDB\n",
    "conn.sql(f\"\"\"\n",
    "SELECT month(date_of_transfer) as transfer_month, mean(price) as mean_price\n",
    "FROM iceberg_scan('{table.metadata_location}')\n",
    "GROUP BY 1\n",
    "\"\"\").show()"
   ]
  },
  {
   "cell_type": "markdown",
   "id": "c96df712-ec00-44a6-bc3e-eb29664bab07",
   "metadata": {},
   "source": [
    "## Trino\n",
    "Trino is another popular option, especially since AWS provides it as a serverless query engine through Athena. Trino is another SQL-based query engine, so the query looks pretty similar, just using Trino SQL dialect"
   ]
  },
  {
   "cell_type": "code",
   "execution_count": 8,
   "id": "406c0ba8-4731-435d-9aac-c3b822e4c2c1",
   "metadata": {},
   "outputs": [],
   "source": [
    "import sqlalchemy as sa\n",
    "\n",
    "engine = sa.create_engine(\"trino://trino:@trino:8080/lakekeeper\")\n",
    "\n",
    "sql = \"\"\"\n",
    "SELECT month(date_of_transfer) as transfer_month, avg(price) as mean_price \n",
    "FROM housing.staging_prices\n",
    "GROUP BY 1\n",
    "ORDER BY 1\n",
    "\"\"\""
   ]
  },
  {
   "cell_type": "code",
   "execution_count": 9,
   "id": "524d5025-df65-48de-8bd9-6bb99973b163",
   "metadata": {},
   "outputs": [
    {
     "name": "stdout",
     "output_type": "stream",
     "text": [
      "CPU times: user 269 ms, sys: 14.9 ms, total: 284 ms\n",
      "Wall time: 4.08 s\n"
     ]
    },
    {
     "data": {
      "text/html": [
       "<div><style>\n",
       ".dataframe > thead > tr,\n",
       ".dataframe > tbody > tr {\n",
       "  text-align: right;\n",
       "  white-space: pre-wrap;\n",
       "}\n",
       "</style>\n",
       "<small>shape: (12, 2)</small><table border=\"1\" class=\"dataframe\"><thead><tr><th>transfer_month</th><th>mean_price</th></tr><tr><td>i64</td><td>f64</td></tr></thead><tbody><tr><td>1</td><td>394,187.58</td></tr><tr><td>2</td><td>384,490.04</td></tr><tr><td>3</td><td>409,735.65</td></tr><tr><td>4</td><td>401,145.10</td></tr><tr><td>5</td><td>395,103.79</td></tr><tr><td>&hellip;</td><td>&hellip;</td></tr><tr><td>8</td><td>396,430.32</td></tr><tr><td>9</td><td>390,961.38</td></tr><tr><td>10</td><td>389,016.05</td></tr><tr><td>11</td><td>372,036.52</td></tr><tr><td>12</td><td>386,641.94</td></tr></tbody></table></div>"
      ],
      "text/plain": [
       "shape: (12, 2)\n",
       "┌────────────────┬────────────┐\n",
       "│ transfer_month ┆ mean_price │\n",
       "│ ---            ┆ ---        │\n",
       "│ i64            ┆ f64        │\n",
       "╞════════════════╪════════════╡\n",
       "│ 1              ┆ 394,187.58 │\n",
       "│ 2              ┆ 384,490.04 │\n",
       "│ 3              ┆ 409,735.65 │\n",
       "│ 4              ┆ 401,145.10 │\n",
       "│ 5              ┆ 395,103.79 │\n",
       "│ …              ┆ …          │\n",
       "│ 8              ┆ 396,430.32 │\n",
       "│ 9              ┆ 390,961.38 │\n",
       "│ 10             ┆ 389,016.05 │\n",
       "│ 11             ┆ 372,036.52 │\n",
       "│ 12             ┆ 386,641.94 │\n",
       "└────────────────┴────────────┘"
      ]
     },
     "execution_count": 9,
     "metadata": {},
     "output_type": "execute_result"
    }
   ],
   "source": [
    "%%time\n",
    "pl.read_database(sql, engine)"
   ]
  },
  {
   "cell_type": "markdown",
   "id": "3f31ff46-1a48-4731-b0e9-17042db6bd6e",
   "metadata": {},
   "source": [
    "## Daft\n",
    "Daft is a relatively new player in the Dataframe world, similar to Polars, but also designed for scaling out. It's also written in Rust, but Daft has had early support for Iceberg - let's see if that helps"
   ]
  },
  {
   "cell_type": "code",
   "execution_count": 10,
   "id": "4a44a21a-c793-4390-8e2d-676d3e5af0ef",
   "metadata": {},
   "outputs": [],
   "source": [
    "import daft"
   ]
  },
  {
   "cell_type": "code",
   "execution_count": 11,
   "id": "487dc3e5-0fd7-4ca1-8e6e-e92011845626",
   "metadata": {},
   "outputs": [
    {
     "data": {
      "text/html": [
       "<div>\n",
       "<table class=\"dataframe\">\n",
       "<thead><tr><th style=\"text-wrap: nowrap; max-width:192px; overflow:auto; text-align:left\">date_of_transfer<br />UInt32</th><th style=\"text-wrap: nowrap; max-width:192px; overflow:auto; text-align:left\">price<br />Float64</th></tr></thead>\n",
       "<tbody>\n",
       "<tr><td><div style=\"text-align:left; max-width:192px; max-height:64px; overflow:auto\">1</div></td><td><div style=\"text-align:left; max-width:192px; max-height:64px; overflow:auto\">394187.5805044869</div></td></tr>\n",
       "<tr><td><div style=\"text-align:left; max-width:192px; max-height:64px; overflow:auto\">2</div></td><td><div style=\"text-align:left; max-width:192px; max-height:64px; overflow:auto\">384490.0360762256</div></td></tr>\n",
       "<tr><td><div style=\"text-align:left; max-width:192px; max-height:64px; overflow:auto\">3</div></td><td><div style=\"text-align:left; max-width:192px; max-height:64px; overflow:auto\">409735.652211523</div></td></tr>\n",
       "<tr><td><div style=\"text-align:left; max-width:192px; max-height:64px; overflow:auto\">4</div></td><td><div style=\"text-align:left; max-width:192px; max-height:64px; overflow:auto\">401145.1006167552</div></td></tr>\n",
       "<tr><td><div style=\"text-align:left; max-width:192px; max-height:64px; overflow:auto\">5</div></td><td><div style=\"text-align:left; max-width:192px; max-height:64px; overflow:auto\">395103.789231015</div></td></tr>\n",
       "<tr><td>...</td><td>...</td></tr>\n",
       "<tr><td><div style=\"text-align:left; max-width:192px; max-height:64px; overflow:auto\">8</td><td><div style=\"text-align:left; max-width:192px; max-height:64px; overflow:auto\">396430.3194902848</td></tr>\n",
       "<tr><td><div style=\"text-align:left; max-width:192px; max-height:64px; overflow:auto\">9</td><td><div style=\"text-align:left; max-width:192px; max-height:64px; overflow:auto\">390961.3840281215</td></tr>\n",
       "<tr><td><div style=\"text-align:left; max-width:192px; max-height:64px; overflow:auto\">10</td><td><div style=\"text-align:left; max-width:192px; max-height:64px; overflow:auto\">389016.0510467688</td></tr>\n",
       "<tr><td><div style=\"text-align:left; max-width:192px; max-height:64px; overflow:auto\">11</td><td><div style=\"text-align:left; max-width:192px; max-height:64px; overflow:auto\">372036.5243903345</td></tr>\n",
       "<tr><td><div style=\"text-align:left; max-width:192px; max-height:64px; overflow:auto\">12</td><td><div style=\"text-align:left; max-width:192px; max-height:64px; overflow:auto\">386641.94097710383</td></tr>\n",
       "</tbody>\n",
       "</table>\n",
       "<small>(Showing first 12 rows)</small>\n",
       "</div>"
      ],
      "text/plain": [
       "╭──────────────────┬────────────────────╮\n",
       "│ date_of_transfer ┆ price              │\n",
       "│ ---              ┆ ---                │\n",
       "│ UInt32           ┆ Float64            │\n",
       "╞══════════════════╪════════════════════╡\n",
       "│ 1                ┆ 394187.5805044869  │\n",
       "├╌╌╌╌╌╌╌╌╌╌╌╌╌╌╌╌╌╌┼╌╌╌╌╌╌╌╌╌╌╌╌╌╌╌╌╌╌╌╌┤\n",
       "│ 2                ┆ 384490.0360762256  │\n",
       "├╌╌╌╌╌╌╌╌╌╌╌╌╌╌╌╌╌╌┼╌╌╌╌╌╌╌╌╌╌╌╌╌╌╌╌╌╌╌╌┤\n",
       "│ 3                ┆ 409735.652211523   │\n",
       "├╌╌╌╌╌╌╌╌╌╌╌╌╌╌╌╌╌╌┼╌╌╌╌╌╌╌╌╌╌╌╌╌╌╌╌╌╌╌╌┤\n",
       "│ 4                ┆ 401145.1006167552  │\n",
       "├╌╌╌╌╌╌╌╌╌╌╌╌╌╌╌╌╌╌┼╌╌╌╌╌╌╌╌╌╌╌╌╌╌╌╌╌╌╌╌┤\n",
       "│ 5                ┆ 395103.789231015   │\n",
       "├╌╌╌╌╌╌╌╌╌╌╌╌╌╌╌╌╌╌┼╌╌╌╌╌╌╌╌╌╌╌╌╌╌╌╌╌╌╌╌┤\n",
       "│ …                ┆ …                  │\n",
       "├╌╌╌╌╌╌╌╌╌╌╌╌╌╌╌╌╌╌┼╌╌╌╌╌╌╌╌╌╌╌╌╌╌╌╌╌╌╌╌┤\n",
       "│ 8                ┆ 396430.3194902848  │\n",
       "├╌╌╌╌╌╌╌╌╌╌╌╌╌╌╌╌╌╌┼╌╌╌╌╌╌╌╌╌╌╌╌╌╌╌╌╌╌╌╌┤\n",
       "│ 9                ┆ 390961.3840281215  │\n",
       "├╌╌╌╌╌╌╌╌╌╌╌╌╌╌╌╌╌╌┼╌╌╌╌╌╌╌╌╌╌╌╌╌╌╌╌╌╌╌╌┤\n",
       "│ 10               ┆ 389016.0510467688  │\n",
       "├╌╌╌╌╌╌╌╌╌╌╌╌╌╌╌╌╌╌┼╌╌╌╌╌╌╌╌╌╌╌╌╌╌╌╌╌╌╌╌┤\n",
       "│ 11               ┆ 372036.5243903345  │\n",
       "├╌╌╌╌╌╌╌╌╌╌╌╌╌╌╌╌╌╌┼╌╌╌╌╌╌╌╌╌╌╌╌╌╌╌╌╌╌╌╌┤\n",
       "│ 12               ┆ 386641.94097710383 │\n",
       "╰──────────────────┴────────────────────╯\n",
       "\n",
       "(Showing first 12 rows)"
      ]
     },
     "metadata": {},
     "output_type": "display_data"
    },
    {
     "name": "stdout",
     "output_type": "stream",
     "text": [
      "CPU times: user 169 ms, sys: 63.9 ms, total: 233 ms\n",
      "Wall time: 218 ms\n"
     ]
    }
   ],
   "source": [
    "%%time\n",
    "(\n",
    "    daft.read_iceberg(table)\n",
    "    .groupby(daft.col(\"date_of_transfer\").dt.month())\n",
    "    .agg(daft.col(\"price\").mean())\n",
    "    .sort(by=daft.col(\"date_of_transfer\"))\n",
    "    .show(12)\n",
    ")"
   ]
  },
  {
   "cell_type": "markdown",
   "id": "b9266388-cbdb-4f92-a989-8b2c0de522d8",
   "metadata": {},
   "source": [
    "## Query engines\n",
    "So now we've done a tour of some of the query engines that are also easy to run locally - we've been through Python with Pyiceberg, Rust with Polars and Daft, C++ with Duckdb and finally Java with Trino. One important player we've left out here is Spark. There is no denying that Iceberg was originally a Java project and the Java Iceberg reference library is the most feature-complete. Pyiceberg is a close second though\n",
    "\n",
    "![Iceberg Query Engines](images/iceberg_query_engine.svg)\n",
    "\n",
    "In a real enterprise setup, you'll probably a managed service like Databricks or Snowflake that you can rely on as your main Iceberg driver - but the beauty of Iceberg is that you don't have to. You can mix and match these different query engines depending on the task at hand, while not having to move the data anywhere."
   ]
  },
  {
   "cell_type": "markdown",
   "id": "5cda0d53-01c8-42e2-b655-094e614fe7d0",
   "metadata": {},
   "source": [
    "# Exercise\n",
    "\n",
    "Try running a query using your favourite query engine to calculate the average house price for your county. If you don't live in the UK - pick the funniest sounding one. (I quite like WORCESTERSHIRE)"
   ]
  },
  {
   "cell_type": "code",
   "execution_count": 16,
   "id": "35999a18-96a9-485b-88db-e8fb1b497e9c",
   "metadata": {},
   "outputs": [
    {
     "data": {
      "text/html": [
       "<div><style>\n",
       ".dataframe > thead > tr,\n",
       ".dataframe > tbody > tr {\n",
       "  text-align: right;\n",
       "  white-space: pre-wrap;\n",
       "}\n",
       "</style>\n",
       "<small>shape: (1, 1)</small><table border=\"1\" class=\"dataframe\"><thead><tr><th>price</th></tr><tr><td>f64</td></tr></thead><tbody><tr><td>355,026.98</td></tr></tbody></table></div>"
      ],
      "text/plain": [
       "shape: (1, 1)\n",
       "┌────────────┐\n",
       "│ price      │\n",
       "│ ---        │\n",
       "│ f64        │\n",
       "╞════════════╡\n",
       "│ 355,026.98 │\n",
       "└────────────┘"
      ]
     },
     "execution_count": 16,
     "metadata": {},
     "output_type": "execute_result"
    }
   ],
   "source": [
    "(\n",
    "    pl.scan_iceberg(table)\n",
    "    .filter(county=\"WORCESTERSHIRE\")\n",
    "    .select(pl.col(\"price\").mean())\n",
    "    .collect()\n",
    ")"
   ]
  },
  {
   "cell_type": "code",
   "execution_count": 18,
   "id": "91f3758e-47f3-479a-81ac-26776b802985",
   "metadata": {},
   "outputs": [
    {
     "name": "stdout",
     "output_type": "stream",
     "text": [
      "┌────────────────────┐\n",
      "│     mean_price     │\n",
      "│       double       │\n",
      "├────────────────────┤\n",
      "│ 355026.98243820295 │\n",
      "└────────────────────┘\n",
      "\n"
     ]
    }
   ],
   "source": [
    "# DuckDB\n",
    "conn.sql(f\"\"\"\n",
    "    SELECT mean(price) as mean_price\n",
    "    FROM iceberg_scan('{table.metadata_location}')\n",
    "    WHERE county = 'WORCESTERSHIRE'\n",
    "\"\"\").show()"
   ]
  }
 ],
 "metadata": {
  "kernelspec": {
   "display_name": "Python 3 (ipykernel)",
   "language": "python",
   "name": "python3"
  },
  "language_info": {
   "codemirror_mode": {
    "name": "ipython",
    "version": 3
   },
   "file_extension": ".py",
   "mimetype": "text/x-python",
   "name": "python",
   "nbconvert_exporter": "python",
   "pygments_lexer": "ipython3",
   "version": "3.12.11"
  }
 },
 "nbformat": 4,
 "nbformat_minor": 5
}
